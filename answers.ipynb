{
 "cells": [
  {
   "cell_type": "markdown",
   "metadata": {},
   "source": [
    "# Final Project ChE 395\n",
    "by **Spencer Hong**\n",
    "\n",
    "\"Trump speaks at level of 8-year-old, new analysis finds.\"  \n",
    "Is this true? Can we prove it?"
   ]
  },
  {
   "cell_type": "markdown",
   "metadata": {},
   "source": [
    "### Let's play around with the data"
   ]
  },
  {
   "cell_type": "code",
   "execution_count": 1,
   "metadata": {
    "ExecuteTime": {
     "end_time": "2021-05-30T16:52:13.126111Z",
     "start_time": "2021-05-30T16:52:12.846324Z"
    }
   },
   "outputs": [],
   "source": [
    "import pandas as pd"
   ]
  },
  {
   "cell_type": "code",
   "execution_count": 2,
   "metadata": {
    "ExecuteTime": {
     "end_time": "2021-05-30T16:52:14.564927Z",
     "start_time": "2021-05-30T16:52:14.157379Z"
    }
   },
   "outputs": [
    {
     "data": {
      "text/html": [
       "<div>\n",
       "<style scoped>\n",
       "    .dataframe tbody tr th:only-of-type {\n",
       "        vertical-align: middle;\n",
       "    }\n",
       "\n",
       "    .dataframe tbody tr th {\n",
       "        vertical-align: top;\n",
       "    }\n",
       "\n",
       "    .dataframe thead th {\n",
       "        text-align: right;\n",
       "    }\n",
       "</style>\n",
       "<table border=\"1\" class=\"dataframe\">\n",
       "  <thead>\n",
       "    <tr style=\"text-align: right;\">\n",
       "      <th></th>\n",
       "      <th>status_id</th>\n",
       "      <th>created_at</th>\n",
       "      <th>user_id</th>\n",
       "      <th>screen_name</th>\n",
       "      <th>text</th>\n",
       "      <th>source</th>\n",
       "      <th>display_text_width</th>\n",
       "      <th>reply_to_status_id</th>\n",
       "      <th>reply_to_user_id</th>\n",
       "      <th>reply_to_screen_name</th>\n",
       "      <th>...</th>\n",
       "      <th>retweet_verified</th>\n",
       "      <th>place_url</th>\n",
       "      <th>place_name</th>\n",
       "      <th>place_full_name</th>\n",
       "      <th>place_type</th>\n",
       "      <th>country</th>\n",
       "      <th>country_code</th>\n",
       "      <th>geo_coords</th>\n",
       "      <th>coords_coords</th>\n",
       "      <th>bbox_coords</th>\n",
       "    </tr>\n",
       "  </thead>\n",
       "  <tbody>\n",
       "    <tr>\n",
       "      <th>0</th>\n",
       "      <td>x1864367186</td>\n",
       "      <td>2009-05-20 22:29:47</td>\n",
       "      <td>x25073877</td>\n",
       "      <td>realDonaldTrump</td>\n",
       "      <td>Read a great interview with Donald Trump that ...</td>\n",
       "      <td>Twitter Web Client</td>\n",
       "      <td>112</td>\n",
       "      <td>NaN</td>\n",
       "      <td>NaN</td>\n",
       "      <td>NaN</td>\n",
       "      <td>...</td>\n",
       "      <td>NaN</td>\n",
       "      <td>NaN</td>\n",
       "      <td>NaN</td>\n",
       "      <td>NaN</td>\n",
       "      <td>NaN</td>\n",
       "      <td>NaN</td>\n",
       "      <td>NaN</td>\n",
       "      <td>NaN</td>\n",
       "      <td>NaN</td>\n",
       "      <td>NaN</td>\n",
       "    </tr>\n",
       "    <tr>\n",
       "      <th>1</th>\n",
       "      <td>x9273573134835712</td>\n",
       "      <td>2010-11-29 15:52:46</td>\n",
       "      <td>x25073877</td>\n",
       "      <td>realDonaldTrump</td>\n",
       "      <td>Congratulations to Evan Lysacek for being nomi...</td>\n",
       "      <td>Twitter Web Client</td>\n",
       "      <td>127</td>\n",
       "      <td>NaN</td>\n",
       "      <td>NaN</td>\n",
       "      <td>NaN</td>\n",
       "      <td>...</td>\n",
       "      <td>NaN</td>\n",
       "      <td>NaN</td>\n",
       "      <td>NaN</td>\n",
       "      <td>NaN</td>\n",
       "      <td>NaN</td>\n",
       "      <td>NaN</td>\n",
       "      <td>NaN</td>\n",
       "      <td>NaN</td>\n",
       "      <td>NaN</td>\n",
       "      <td>NaN</td>\n",
       "    </tr>\n",
       "    <tr>\n",
       "      <th>2</th>\n",
       "      <td>x29014512646</td>\n",
       "      <td>2010-10-28 18:53:40</td>\n",
       "      <td>x25073877</td>\n",
       "      <td>realDonaldTrump</td>\n",
       "      <td>I was on The View this morning. We talked abou...</td>\n",
       "      <td>Twitter Web Client</td>\n",
       "      <td>139</td>\n",
       "      <td>NaN</td>\n",
       "      <td>NaN</td>\n",
       "      <td>NaN</td>\n",
       "      <td>...</td>\n",
       "      <td>NaN</td>\n",
       "      <td>NaN</td>\n",
       "      <td>NaN</td>\n",
       "      <td>NaN</td>\n",
       "      <td>NaN</td>\n",
       "      <td>NaN</td>\n",
       "      <td>NaN</td>\n",
       "      <td>NaN</td>\n",
       "      <td>NaN</td>\n",
       "      <td>NaN</td>\n",
       "    </tr>\n",
       "    <tr>\n",
       "      <th>3</th>\n",
       "      <td>x7483813542232064</td>\n",
       "      <td>2010-11-24 17:20:54</td>\n",
       "      <td>x25073877</td>\n",
       "      <td>realDonaldTrump</td>\n",
       "      <td>Tomorrow night's episode of The Apprentice del...</td>\n",
       "      <td>Twitter Web Client</td>\n",
       "      <td>140</td>\n",
       "      <td>NaN</td>\n",
       "      <td>NaN</td>\n",
       "      <td>NaN</td>\n",
       "      <td>...</td>\n",
       "      <td>NaN</td>\n",
       "      <td>NaN</td>\n",
       "      <td>NaN</td>\n",
       "      <td>NaN</td>\n",
       "      <td>NaN</td>\n",
       "      <td>NaN</td>\n",
       "      <td>NaN</td>\n",
       "      <td>NaN</td>\n",
       "      <td>NaN</td>\n",
       "      <td>NaN</td>\n",
       "    </tr>\n",
       "    <tr>\n",
       "      <th>4</th>\n",
       "      <td>x5775731054</td>\n",
       "      <td>2009-11-16 21:06:10</td>\n",
       "      <td>x25073877</td>\n",
       "      <td>realDonaldTrump</td>\n",
       "      <td>Donald Trump Partners with TV1 on New Reality ...</td>\n",
       "      <td>Twitter Web Client</td>\n",
       "      <td>116</td>\n",
       "      <td>NaN</td>\n",
       "      <td>NaN</td>\n",
       "      <td>NaN</td>\n",
       "      <td>...</td>\n",
       "      <td>NaN</td>\n",
       "      <td>NaN</td>\n",
       "      <td>NaN</td>\n",
       "      <td>NaN</td>\n",
       "      <td>NaN</td>\n",
       "      <td>NaN</td>\n",
       "      <td>NaN</td>\n",
       "      <td>NaN</td>\n",
       "      <td>NaN</td>\n",
       "      <td>NaN</td>\n",
       "    </tr>\n",
       "  </tbody>\n",
       "</table>\n",
       "<p>5 rows × 68 columns</p>\n",
       "</div>"
      ],
      "text/plain": [
       "           status_id           created_at    user_id      screen_name  \\\n",
       "0        x1864367186  2009-05-20 22:29:47  x25073877  realDonaldTrump   \n",
       "1  x9273573134835712  2010-11-29 15:52:46  x25073877  realDonaldTrump   \n",
       "2       x29014512646  2010-10-28 18:53:40  x25073877  realDonaldTrump   \n",
       "3  x7483813542232064  2010-11-24 17:20:54  x25073877  realDonaldTrump   \n",
       "4        x5775731054  2009-11-16 21:06:10  x25073877  realDonaldTrump   \n",
       "\n",
       "                                                text              source  \\\n",
       "0  Read a great interview with Donald Trump that ...  Twitter Web Client   \n",
       "1  Congratulations to Evan Lysacek for being nomi...  Twitter Web Client   \n",
       "2  I was on The View this morning. We talked abou...  Twitter Web Client   \n",
       "3  Tomorrow night's episode of The Apprentice del...  Twitter Web Client   \n",
       "4  Donald Trump Partners with TV1 on New Reality ...  Twitter Web Client   \n",
       "\n",
       "   display_text_width reply_to_status_id reply_to_user_id  \\\n",
       "0                 112                NaN              NaN   \n",
       "1                 127                NaN              NaN   \n",
       "2                 139                NaN              NaN   \n",
       "3                 140                NaN              NaN   \n",
       "4                 116                NaN              NaN   \n",
       "\n",
       "  reply_to_screen_name  ...  retweet_verified  place_url  place_name  \\\n",
       "0                  NaN  ...               NaN        NaN         NaN   \n",
       "1                  NaN  ...               NaN        NaN         NaN   \n",
       "2                  NaN  ...               NaN        NaN         NaN   \n",
       "3                  NaN  ...               NaN        NaN         NaN   \n",
       "4                  NaN  ...               NaN        NaN         NaN   \n",
       "\n",
       "   place_full_name place_type country country_code geo_coords coords_coords  \\\n",
       "0              NaN        NaN     NaN          NaN        NaN           NaN   \n",
       "1              NaN        NaN     NaN          NaN        NaN           NaN   \n",
       "2              NaN        NaN     NaN          NaN        NaN           NaN   \n",
       "3              NaN        NaN     NaN          NaN        NaN           NaN   \n",
       "4              NaN        NaN     NaN          NaN        NaN           NaN   \n",
       "\n",
       "  bbox_coords  \n",
       "0         NaN  \n",
       "1         NaN  \n",
       "2         NaN  \n",
       "3         NaN  \n",
       "4         NaN  \n",
       "\n",
       "[5 rows x 68 columns]"
      ]
     },
     "execution_count": 2,
     "metadata": {},
     "output_type": "execute_result"
    }
   ],
   "source": [
    "tweets = pd.read_csv('data/trumptweets-1515775693.tweets.csv', low_memory = False)\n",
    "tweets.head()"
   ]
  },
  {
   "cell_type": "markdown",
   "metadata": {},
   "source": [
    "What is the range of dates on this dataset?"
   ]
  },
  {
   "cell_type": "code",
   "execution_count": 3,
   "metadata": {
    "ExecuteTime": {
     "end_time": "2021-05-28T21:02:43.253919Z",
     "start_time": "2021-05-28T21:02:43.219864Z"
    }
   },
   "outputs": [
    {
     "data": {
      "text/html": [
       "<div>\n",
       "<style scoped>\n",
       "    .dataframe tbody tr th:only-of-type {\n",
       "        vertical-align: middle;\n",
       "    }\n",
       "\n",
       "    .dataframe tbody tr th {\n",
       "        vertical-align: top;\n",
       "    }\n",
       "\n",
       "    .dataframe thead th {\n",
       "        text-align: right;\n",
       "    }\n",
       "</style>\n",
       "<table border=\"1\" class=\"dataframe\">\n",
       "  <thead>\n",
       "    <tr style=\"text-align: right;\">\n",
       "      <th></th>\n",
       "      <th>created_at</th>\n",
       "    </tr>\n",
       "  </thead>\n",
       "  <tbody>\n",
       "    <tr>\n",
       "      <th>18</th>\n",
       "      <td>2009-05-04 18:54:25</td>\n",
       "    </tr>\n",
       "    <tr>\n",
       "      <th>32644</th>\n",
       "      <td>2018-01-12 13:48:49</td>\n",
       "    </tr>\n",
       "  </tbody>\n",
       "</table>\n",
       "</div>"
      ],
      "text/plain": [
       "                created_at\n",
       "18     2009-05-04 18:54:25\n",
       "32644  2018-01-12 13:48:49"
      ]
     },
     "execution_count": 3,
     "metadata": {},
     "output_type": "execute_result"
    }
   ],
   "source": [
    "tweets[['created_at']].sort_values('created_at').iloc[[0, -1]]"
   ]
  },
  {
   "cell_type": "markdown",
   "metadata": {},
   "source": [
    "Our analysis will pertain to Donald Trump tweets from 2009 to 2018. "
   ]
  },
  {
   "cell_type": "markdown",
   "metadata": {},
   "source": [
    "How often does Donald Trump retweet vs. spit out a tweet of his own?"
   ]
  },
  {
   "cell_type": "code",
   "execution_count": 4,
   "metadata": {
    "ExecuteTime": {
     "end_time": "2021-05-28T21:02:43.262244Z",
     "start_time": "2021-05-28T21:02:43.256584Z"
    }
   },
   "outputs": [
    {
     "data": {
      "text/plain": [
       "1.5627855967830377"
      ]
     },
     "execution_count": 4,
     "metadata": {},
     "output_type": "execute_result"
    }
   ],
   "source": [
    "len(tweets[tweets.is_retweet])/len(tweets) * 100"
   ]
  },
  {
   "cell_type": "markdown",
   "metadata": {},
   "source": [
    "He only retweets 1.6% of the time. This means we have a good enough dataset to analyze his own writing. Let's omit retweets from the dataset. We're also only worried about the text, so let's just keep the text and the date, and drop everything else. "
   ]
  },
  {
   "cell_type": "code",
   "execution_count": 3,
   "metadata": {
    "ExecuteTime": {
     "end_time": "2021-05-30T16:52:22.571893Z",
     "start_time": "2021-05-30T16:52:22.537089Z"
    }
   },
   "outputs": [
    {
     "data": {
      "text/html": [
       "<div>\n",
       "<style scoped>\n",
       "    .dataframe tbody tr th:only-of-type {\n",
       "        vertical-align: middle;\n",
       "    }\n",
       "\n",
       "    .dataframe tbody tr th {\n",
       "        vertical-align: top;\n",
       "    }\n",
       "\n",
       "    .dataframe thead th {\n",
       "        text-align: right;\n",
       "    }\n",
       "</style>\n",
       "<table border=\"1\" class=\"dataframe\">\n",
       "  <thead>\n",
       "    <tr style=\"text-align: right;\">\n",
       "      <th></th>\n",
       "      <th>created_at</th>\n",
       "      <th>text</th>\n",
       "    </tr>\n",
       "  </thead>\n",
       "  <tbody>\n",
       "    <tr>\n",
       "      <th>0</th>\n",
       "      <td>2009-05-20 22:29:47</td>\n",
       "      <td>Read a great interview with Donald Trump that ...</td>\n",
       "    </tr>\n",
       "    <tr>\n",
       "      <th>1</th>\n",
       "      <td>2010-11-29 15:52:46</td>\n",
       "      <td>Congratulations to Evan Lysacek for being nomi...</td>\n",
       "    </tr>\n",
       "    <tr>\n",
       "      <th>2</th>\n",
       "      <td>2010-10-28 18:53:40</td>\n",
       "      <td>I was on The View this morning. We talked abou...</td>\n",
       "    </tr>\n",
       "    <tr>\n",
       "      <th>3</th>\n",
       "      <td>2010-11-24 17:20:54</td>\n",
       "      <td>Tomorrow night's episode of The Apprentice del...</td>\n",
       "    </tr>\n",
       "    <tr>\n",
       "      <th>4</th>\n",
       "      <td>2009-11-16 21:06:10</td>\n",
       "      <td>Donald Trump Partners with TV1 on New Reality ...</td>\n",
       "    </tr>\n",
       "  </tbody>\n",
       "</table>\n",
       "</div>"
      ],
      "text/plain": [
       "            created_at                                               text\n",
       "0  2009-05-20 22:29:47  Read a great interview with Donald Trump that ...\n",
       "1  2010-11-29 15:52:46  Congratulations to Evan Lysacek for being nomi...\n",
       "2  2010-10-28 18:53:40  I was on The View this morning. We talked abou...\n",
       "3  2010-11-24 17:20:54  Tomorrow night's episode of The Apprentice del...\n",
       "4  2009-11-16 21:06:10  Donald Trump Partners with TV1 on New Reality ..."
      ]
     },
     "execution_count": 3,
     "metadata": {},
     "output_type": "execute_result"
    }
   ],
   "source": [
    "tweets = tweets[~tweets.is_retweet][['created_at','text']]\n",
    "tweets.head()"
   ]
  },
  {
   "cell_type": "markdown",
   "metadata": {},
   "source": [
    "If you look closely, even if we take out the retweets, there are some weird tweets (looks like not a first-person type of writing). See below for examples."
   ]
  },
  {
   "cell_type": "code",
   "execution_count": 6,
   "metadata": {
    "ExecuteTime": {
     "end_time": "2021-05-28T21:02:43.308444Z",
     "start_time": "2021-05-28T21:02:43.304069Z"
    }
   },
   "outputs": [
    {
     "data": {
      "text/plain": [
       "'Read a great interview with Donald Trump that appeared in The New York Times Magazine: http://tinyurl.com/qsx4o6'"
      ]
     },
     "execution_count": 6,
     "metadata": {},
     "output_type": "execute_result"
    }
   ],
   "source": [
    "tweets.iloc[0].text"
   ]
  },
  {
   "cell_type": "code",
   "execution_count": 7,
   "metadata": {
    "ExecuteTime": {
     "end_time": "2021-05-28T21:02:43.314935Z",
     "start_time": "2021-05-28T21:02:43.310778Z"
    }
   },
   "outputs": [
    {
     "data": {
      "text/plain": [
       "\"Donald Trump Partners with TV1 on New Reality Series Entitled, Omarosa's Ultimate Merger: http://tinyurl.com/yk5m3lc\""
      ]
     },
     "execution_count": 7,
     "metadata": {},
     "output_type": "execute_result"
    }
   ],
   "source": [
    "tweets.iloc[4].text"
   ]
  },
  {
   "cell_type": "markdown",
   "metadata": {},
   "source": [
    "after some research, it is clear that even the non-retweets may not come from himself -- and to get to the heart of the question, we want to only get the tweets that represent Donald Trump as himself, no one else. Let's also avoid all the media links. Trump also sometimes retweets other accounts using \"RT @account\" method. Let's avoid this as well."
   ]
  },
  {
   "cell_type": "code",
   "execution_count": 4,
   "metadata": {
    "ExecuteTime": {
     "end_time": "2021-05-30T16:52:25.437046Z",
     "start_time": "2021-05-30T16:52:25.394790Z"
    }
   },
   "outputs": [
    {
     "name": "stdout",
     "output_type": "stream",
     "text": [
      "we have 24669 tweets after preprocessing\n"
     ]
    },
    {
     "data": {
      "text/html": [
       "<div>\n",
       "<style scoped>\n",
       "    .dataframe tbody tr th:only-of-type {\n",
       "        vertical-align: middle;\n",
       "    }\n",
       "\n",
       "    .dataframe tbody tr th {\n",
       "        vertical-align: top;\n",
       "    }\n",
       "\n",
       "    .dataframe thead th {\n",
       "        text-align: right;\n",
       "    }\n",
       "</style>\n",
       "<table border=\"1\" class=\"dataframe\">\n",
       "  <thead>\n",
       "    <tr style=\"text-align: right;\">\n",
       "      <th></th>\n",
       "      <th>created_at</th>\n",
       "      <th>text</th>\n",
       "    </tr>\n",
       "  </thead>\n",
       "  <tbody>\n",
       "    <tr>\n",
       "      <th>1</th>\n",
       "      <td>2010-11-29 15:52:46</td>\n",
       "      <td>Congratulations to Evan Lysacek for being nomi...</td>\n",
       "    </tr>\n",
       "    <tr>\n",
       "      <th>2</th>\n",
       "      <td>2010-10-28 18:53:40</td>\n",
       "      <td>I was on The View this morning. We talked abou...</td>\n",
       "    </tr>\n",
       "  </tbody>\n",
       "</table>\n",
       "</div>"
      ],
      "text/plain": [
       "            created_at                                               text\n",
       "1  2010-11-29 15:52:46  Congratulations to Evan Lysacek for being nomi...\n",
       "2  2010-10-28 18:53:40  I was on The View this morning. We talked abou..."
      ]
     },
     "execution_count": 4,
     "metadata": {},
     "output_type": "execute_result"
    }
   ],
   "source": [
    "tweets = tweets[~(tweets.text.str.contains('http') | tweets.text.str.contains('RT @'))]\n",
    "print(f'we have {tweets.shape[0]} tweets after preprocessing')\n",
    "tweets.head(2)"
   ]
  },
  {
   "cell_type": "markdown",
   "metadata": {},
   "source": [
    "Okay, now we're ready."
   ]
  },
  {
   "cell_type": "markdown",
   "metadata": {},
   "source": [
    "### Question 1\n",
    "What distribution does Donald Trump's word frequency follow? For now, just plot, and find a distribution that might fit this. No parameters are needed yet, just a visual approximation."
   ]
  },
  {
   "cell_type": "markdown",
   "metadata": {},
   "source": [
    "### Answer 1"
   ]
  },
  {
   "cell_type": "markdown",
   "metadata": {},
   "source": [
    "We first have to tokenize the text. This means to split the text into individual word(s). We are going to use unigram-approach, which means that each word is one word. Let's also get rid of punctuations."
   ]
  },
  {
   "cell_type": "code",
   "execution_count": 5,
   "metadata": {
    "ExecuteTime": {
     "end_time": "2021-05-30T16:52:28.149198Z",
     "start_time": "2021-05-30T16:52:27.099219Z"
    }
   },
   "outputs": [],
   "source": [
    "# importing an useful tokenizer\n",
    "from nltk import word_tokenize\n",
    "# this is regex!\n",
    "import re"
   ]
  },
  {
   "cell_type": "code",
   "execution_count": 6,
   "metadata": {
    "ExecuteTime": {
     "end_time": "2021-05-30T16:52:33.484567Z",
     "start_time": "2021-05-30T16:52:30.298045Z"
    }
   },
   "outputs": [
    {
     "data": {
      "text/plain": [
       "array([list(['Congratulations', 'to', 'Evan', 'Lysacek', 'for', 'being', 'nominated', 'SI', 'sportsman', 'of', 'the', 'year', 'Hes', 'a', 'great', 'guy', 'and', 'he', 'has', 'my', 'vote', 'EvanForSI'])],\n",
       "      dtype=object)"
      ]
     },
     "execution_count": 6,
     "metadata": {},
     "output_type": "execute_result"
    }
   ],
   "source": [
    "# we split tweets into individual words while also getting rid of anything at is not a letter or space.\n",
    "tweets['words'] = tweets['text'].apply(lambda x: word_tokenize(re.sub(r'[^\\w\\s]', '', x)))\n",
    "tweets[['words']].head(1).words.values"
   ]
  },
  {
   "cell_type": "markdown",
   "metadata": {},
   "source": [
    "Now, we have to go through every tweet and start counting. Python provides an excellent built-in collection tool that allows this."
   ]
  },
  {
   "cell_type": "code",
   "execution_count": 7,
   "metadata": {
    "ExecuteTime": {
     "end_time": "2021-05-30T16:52:33.518103Z",
     "start_time": "2021-05-30T16:52:33.515369Z"
    }
   },
   "outputs": [],
   "source": [
    "from collections import Counter"
   ]
  },
  {
   "cell_type": "code",
   "execution_count": 64,
   "metadata": {
    "ExecuteTime": {
     "end_time": "2021-05-29T00:37:57.466071Z",
     "start_time": "2021-05-29T00:37:57.437308Z"
    }
   },
   "outputs": [
    {
     "data": {
      "text/plain": [
       "421566"
      ]
     },
     "execution_count": 64,
     "metadata": {},
     "output_type": "execute_result"
    }
   ],
   "source": [
    "all_words = [word for templist in tweets[['words']].values.tolist() for words in templist for word in words  ]\n",
    "len(all_words)"
   ]
  },
  {
   "cell_type": "markdown",
   "metadata": {},
   "source": [
    "there are more than 400,000 words (not unique) in his tweets from 2009 to 2017."
   ]
  },
  {
   "cell_type": "code",
   "execution_count": 65,
   "metadata": {
    "ExecuteTime": {
     "end_time": "2021-05-29T00:37:59.565234Z",
     "start_time": "2021-05-29T00:37:59.503866Z"
    }
   },
   "outputs": [
    {
     "data": {
      "text/plain": [
       "['the', 'to', 'realDonaldTrump', 'a', 'is', 'and', 'I', 'of', 'you', 'in']"
      ]
     },
     "execution_count": 65,
     "metadata": {},
     "output_type": "execute_result"
    }
   ],
   "source": [
    "word_frequency = Counter(all_words)\n",
    "sorted(word_frequency, key=word_frequency.get, reverse=True)[:10]"
   ]
  },
  {
   "cell_type": "markdown",
   "metadata": {},
   "source": [
    "It makes sense that the top 10 words include \"the\", \"to\", his own Twitter name, and \"a\". "
   ]
  },
  {
   "cell_type": "code",
   "execution_count": 8,
   "metadata": {
    "ExecuteTime": {
     "end_time": "2021-05-30T16:52:36.593523Z",
     "start_time": "2021-05-30T16:52:36.158460Z"
    }
   },
   "outputs": [],
   "source": [
    "# plotting tools\n",
    "import matplotlib.pyplot as plt\n",
    "import seaborn as sns\n",
    "import numpy as np\n",
    "sns.set_style(\"white\")"
   ]
  },
  {
   "cell_type": "code",
   "execution_count": 68,
   "metadata": {
    "ExecuteTime": {
     "end_time": "2021-05-29T00:38:04.227870Z",
     "start_time": "2021-05-29T00:38:04.026760Z"
    }
   },
   "outputs": [
    {
     "data": {
      "image/png": "[encoded data removed]",
      "text/plain": [
       "<Figure size 400x250 with 1 Axes>"
      ]
     },
     "metadata": {},
     "output_type": "display_data"
    }
   ],
   "source": [
    "word_frequency = Counter(all_words)\n",
    "word_frequency = word_frequency.most_common()\n",
    "frequency_values = [x[1] for x in word_frequency]\n",
    "\n",
    "fig, axes = plt.subplots(1, 1, figsize=(8, 5), dpi = 50)\n",
    "sns.set(font_scale = 2)\n",
    "sns.scatterplot(x = np.arange(0, len(word_frequency))[:500], y = frequency_values[:500], ax= axes)\n",
    "\n",
    "plt.title('The first 500 words')\n",
    "axes.set_xlabel('Most common word index')\n",
    "axes.set_ylabel('Word frequency')\n",
    "plt.show()"
   ]
  },
  {
   "cell_type": "markdown",
   "metadata": {
    "ExecuteTime": {
     "end_time": "2021-05-28T19:16:20.194266Z",
     "start_time": "2021-05-28T19:16:20.190395Z"
    }
   },
   "source": [
    "This fits the Zipf's law.   \n",
    "$$f(k; s, N) = \\frac{\\frac{1}{k^s}}{\\sum_{1}^{N}{\\frac{1}{n^s}}}$$\n",
    "where $k$ is the rank, $N$ is the number of elements, and $s$ is the parameter that characterizes the distribution."
   ]
  },
  {
   "cell_type": "markdown",
   "metadata": {},
   "source": [
    "### Question 2\n",
    "Obviously, we're going to need a more rigorous way to find the distribution. First, find the maximum likelihood estimator for the parameter of the Zipf distribution. Zipf distribution only requires 1 parameter, *s*, the shape parameter."
   ]
  },
  {
   "cell_type": "markdown",
   "metadata": {},
   "source": [
    "### Answer 2"
   ]
  },
  {
   "cell_type": "markdown",
   "metadata": {},
   "source": [
    "The probability mass function using Zipf distribution (from equation 1) can be used to calculate the log-likelihood $L(s)$.\n",
    "\n",
    "$L(s) = Log(\\frac{1}{k^s * HarmonicNumber(N, s)})$ "
   ]
  },
  {
   "cell_type": "markdown",
   "metadata": {},
   "source": [
    "Because of the Harmonic Numbers, it will be extremely difficult to find an analytical solution for the estimator. Therefore, we use optimization methods to find an estimate."
   ]
  },
  {
   "cell_type": "code",
   "execution_count": 66,
   "metadata": {
    "ExecuteTime": {
     "end_time": "2021-05-31T19:54:30.348672Z",
     "start_time": "2021-05-31T19:54:30.342022Z"
    }
   },
   "outputs": [],
   "source": [
    "from scipy.optimize import minimize_scalar\n",
    "from scipy.stats import zipf, norm\n",
    "def neg_log_likelihood(s):\n",
    "    N = sum(frequency_values)\n",
    "    probs = np.log(frequency_values**(-1 * s) / np.sum(np.arange(1,  N+1)**(-1 * s)))\n",
    "    summed = sum(probs * frequency_values)\n",
    "    return -1 * summed"
   ]
  },
  {
   "cell_type": "code",
   "execution_count": 69,
   "metadata": {
    "ExecuteTime": {
     "end_time": "2021-05-29T00:38:08.281878Z",
     "start_time": "2021-05-29T00:38:07.883651Z"
    }
   },
   "outputs": [
    {
     "name": "stdout",
     "output_type": "stream",
     "text": [
      "1.0472055615708566\n"
     ]
    }
   ],
   "source": [
    "frequency_values = np.array(frequency_values)\n",
    "s_best = minimize_scalar(neg_log_likelihood, [0, 6.0] )\n",
    "print(s_best.x)"
   ]
  },
  {
   "cell_type": "markdown",
   "metadata": {},
   "source": [
    "The best estimate for the $s$ parameter was 1.0472."
   ]
  },
  {
   "cell_type": "code",
   "execution_count": 18,
   "metadata": {
    "ExecuteTime": {
     "end_time": "2021-05-28T21:02:53.124090Z",
     "start_time": "2021-05-28T21:02:48.192577Z"
    }
   },
   "outputs": [
    {
     "data": {
      "image/png": "[encoded data removed]",
      "text/plain": [
       "<Figure size 400x250 with 1 Axes>"
      ]
     },
     "metadata": {},
     "output_type": "display_data"
    }
   ],
   "source": [
    "sns.set_style('white')\n",
    "fig, axes = plt.subplots(1, 1, figsize=(8, 5), dpi = 50)\n",
    "sns.set(font_scale = 2)\n",
    "plt.yscale('log')\n",
    "plt.xscale('log')\n",
    "sns.scatterplot(x = np.arange(1, len(word_frequency)+1), y =frequency_values, ax= axes, label = 'Twitter Data')\n",
    "plt.title('Log-Log Plot against MVUE')\n",
    "axes.set_xlabel('Most common word index')\n",
    "axes.set_ylabel('Word frequency')\n",
    "\n",
    "# here, we are fitting the estimate we found using Scipy's built-in zipf PMF function.\n",
    "fitted = np.array([zipf.pmf(n, s_best.x) for n in np.arange(1, len(frequency_values) + 1)]) * sum(frequency_values)\n",
    "\n",
    "p1 = sns.scatterplot(x = np.arange(1, len(word_frequency) + 1), y = fitted, ax = axes, label = 'Shape Estimator')\n",
    "p1.legend(frameon = True)\n",
    "plt.tight_layout()\n",
    "plt.show()"
   ]
  },
  {
   "cell_type": "markdown",
   "metadata": {},
   "source": [
    "The estimate we found is a pretty good estimate to the 400,000 tweet data."
   ]
  },
  {
   "cell_type": "markdown",
   "metadata": {},
   "source": [
    "### Question 3\n",
    "Using the MLE from question 2, bootstrap 10000 times and calculate this estimator 1000 times. What is the mean? the variance? Does this match with analytical solution?"
   ]
  },
  {
   "cell_type": "markdown",
   "metadata": {},
   "source": [
    "### Answer 3"
   ]
  },
  {
   "cell_type": "markdown",
   "metadata": {},
   "source": [
    "Python's Scikit-Learn has a great bootstrap API that we will use. (We also could have used Pandas resample feature, which actually would have been easier since our data is already in dataframes, but oh well. too lazy to change it.)"
   ]
  },
  {
   "cell_type": "code",
   "execution_count": 10,
   "metadata": {
    "ExecuteTime": {
     "end_time": "2021-05-30T16:52:42.851096Z",
     "start_time": "2021-05-30T16:52:42.847976Z"
    }
   },
   "outputs": [],
   "source": [
    "from sklearn.utils import resample"
   ]
  },
  {
   "cell_type": "code",
   "execution_count": 11,
   "metadata": {
    "ExecuteTime": {
     "end_time": "2021-05-30T05:13:00.703968Z",
     "start_time": "2021-05-30T05:13:00.674197Z"
    }
   },
   "outputs": [],
   "source": [
    "list_to_sample_from = [x[0] for x in tweets[['words']].values]"
   ]
  },
  {
   "cell_type": "code",
   "execution_count": 44,
   "metadata": {
    "ExecuteTime": {
     "end_time": "2021-05-29T00:14:56.633766Z",
     "start_time": "2021-05-29T00:14:56.628042Z"
    }
   },
   "outputs": [
    {
     "data": {
      "text/plain": [
       "100"
      ]
     },
     "execution_count": 44,
     "metadata": {},
     "output_type": "execute_result"
    }
   ],
   "source": [
    "len(resample(list_to_sample_from, replace=True, n_samples=100, random_state=42))"
   ]
  },
  {
   "cell_type": "markdown",
   "metadata": {},
   "source": [
    "The following step will take a while since we are optimizing to find estimator for s 10000 times. We'll use a time-tracking library to keep track of the progress."
   ]
  },
  {
   "cell_type": "code",
   "execution_count": 55,
   "metadata": {
    "ExecuteTime": {
     "end_time": "2021-05-30T17:31:35.275675Z",
     "start_time": "2021-05-30T17:31:35.217951Z"
    }
   },
   "outputs": [
    {
     "data": {
      "application/vnd.jupyter.widget-view+json": {
       "model_id": "8e2b296bbfc34cf999c22b03bd1b432f",
       "version_major": 2,
       "version_minor": 0
      },
      "text/plain": [
       "HBox(children=(FloatProgress(value=1.0, bar_style='info', layout=Layout(width='20px'), max=1.0), HTML(value=''…"
      ]
     },
     "metadata": {},
     "output_type": "display_data"
    },
    {
     "data": {
      "text/plain": [
       "0it [00:00, ?it/s]"
      ]
     },
     "execution_count": 55,
     "metadata": {},
     "output_type": "execute_result"
    }
   ],
   "source": [
    "from tqdm.notebook import tqdm\n",
    "tqdm()"
   ]
  },
  {
   "cell_type": "code",
   "execution_count": 61,
   "metadata": {
    "ExecuteTime": {
     "end_time": "2021-05-29T00:37:39.934260Z",
     "start_time": "2021-05-29T00:30:17.781833Z"
    }
   },
   "outputs": [
    {
     "data": {
      "application/vnd.jupyter.widget-view+json": {
       "model_id": "236d97fd493c46bfadf9ad936f70416a",
       "version_major": 2,
       "version_minor": 0
      },
      "text/plain": [
       "HBox(children=(FloatProgress(value=0.0, max=10000.0), HTML(value='')))"
      ]
     },
     "metadata": {},
     "output_type": "display_data"
    },
    {
     "name": "stdout",
     "output_type": "stream",
     "text": [
      "\n"
     ]
    }
   ],
   "source": [
    "global word_frequency_temp, frequency_values_temp, temp_words\n",
    "def neg_log_likelihood_temp(s):\n",
    "    N = sum(frequency_values_temp)\n",
    "    probs = np.log(frequency_values_temp**(-1 * s) / np.sum(np.arange(1,  N+1)**(-1 * s)))\n",
    "    summed = sum(probs * frequency_values_temp)\n",
    "    return -1 * summed\n",
    "bootsamples = []\n",
    "for i in tqdm(range(0, 10000)):\n",
    "    sample = resample(list_to_sample_from, replace=True, n_samples=1000)\n",
    "        \n",
    "    temp_words = [word for words in sample for word in words]\n",
    "    word_frequency_temp = Counter(temp_words)\n",
    "    word_frequency_temp = word_frequency_temp.most_common()\n",
    "    frequency_values_temp = [x[1] for x in word_frequency_temp]\n",
    "    frequency_values_temp = np.array(frequency_values_temp)\n",
    "    \n",
    "    s_best = minimize_scalar(neg_log_likelihood_temp, [0, 6.0] )\n",
    "    \n",
    "    del word_frequency_temp, frequency_values_temp, temp_words\n",
    "    bootsamples.append(s_best.x)"
   ]
  },
  {
   "cell_type": "markdown",
   "metadata": {},
   "source": [
    "Let's plot our estimators. "
   ]
  },
  {
   "cell_type": "code",
   "execution_count": 62,
   "metadata": {
    "ExecuteTime": {
     "end_time": "2021-05-29T00:37:40.570107Z",
     "start_time": "2021-05-29T00:37:40.316853Z"
    }
   },
   "outputs": [
    {
     "data": {
      "image/png": "[encoded data removed]",
      "text/plain": [
       "<Figure size 400x250 with 1 Axes>"
      ]
     },
     "metadata": {},
     "output_type": "display_data"
    }
   ],
   "source": [
    "sns.set_style('white')\n",
    "fig, axes = plt.subplots(1, 1, figsize=(8, 5), dpi = 50)\n",
    "sns.set(font_scale = 2)\n",
    "sns.histplot(bootsamples, ax = axes)\n",
    "\n",
    "plt.title('Bootstrap of the shape estimators')\n",
    "\n",
    "plt.tight_layout()\n",
    "plt.show()"
   ]
  },
  {
   "cell_type": "code",
   "execution_count": 63,
   "metadata": {
    "ExecuteTime": {
     "end_time": "2021-05-29T00:37:40.986324Z",
     "start_time": "2021-05-29T00:37:40.981170Z"
    }
   },
   "outputs": [
    {
     "name": "stdout",
     "output_type": "stream",
     "text": [
      "The mean of the estimator from the bootstrap population is: 1.232\n",
      "The variance of the estimator from the bootstrap population is: 1e-05\n"
     ]
    }
   ],
   "source": [
    "print(f'The mean of the estimator from the bootstrap population is: {np.round(np.mean(bootsamples), 3)}')\n",
    "print(f'The variance of the estimator from the bootstrap population is: {np.round(np.var(bootsamples), 5)}')"
   ]
  },
  {
   "cell_type": "markdown",
   "metadata": {},
   "source": [
    "Notice that when we only look at 1000 tweets at a time, it does not come close to knowing the full picture of 400,000 tweets."
   ]
  },
  {
   "cell_type": "markdown",
   "metadata": {},
   "source": [
    "### Question 4\n",
    "Using our hypothesis testing knowledge from class, determine if Donald Trump's tweets follow the distribution with the shape estimator from the bootstrap in question 3. You will need to set up a null/alternative hypotheses and a log-likelihood ratio statistic. Plot the p-values from the 1000 bootstraps 100 times."
   ]
  },
  {
   "cell_type": "markdown",
   "metadata": {},
   "source": [
    "### Answer 4"
   ]
  },
  {
   "cell_type": "markdown",
   "metadata": {},
   "source": [
    "The null hypothesis is that the $s$ parameter from the bootstrapped distribution fits the overall, underlying distribution of 400,000 tweets. The alternative hypothesis is that the $s$ parameter does not fit the underlying distribution. "
   ]
  },
  {
   "cell_type": "markdown",
   "metadata": {},
   "source": [
    "$H_o: s = s_{bootstrap}$   \n",
    "$H_a: s \\neq s_{bootstrap}$"
   ]
  },
  {
   "cell_type": "markdown",
   "metadata": {},
   "source": [
    "$D = -2 *log\\frac{L(\\theta_o)}{L(\\theta_a)}$  \n",
    "where $L(\\theta_o)$ is the likelihood if the null hypothesis is true (bootstrap s estimator) and   \n",
    "$L(\\theta_a)$ is the maximum lieklihood for the alternative hypothesis.\n",
    "\n",
    "$L(\\theta_o) = \\Pi_i^n f(s_{bootstrap}, i)$  \n",
    "where f is the Zipf probability mass function. \n",
    "\n",
    "$L(\\theta_a) = \\Pi_i^n f(s_{data}, i)$   \n",
    "where $s_{data}$ represents the fitted s parameter for the sample, and not the bootstrapped parameter."
   ]
  },
  {
   "cell_type": "markdown",
   "metadata": {},
   "source": [
    "$D = \\sum_i^n -2 log(\\frac{f(s_{bootstrap},i )}{f(s_{data}, i)}) \\approx \\chi^2(n)$   \n",
    "since the null hypothesis has 1 parameter and the alternative hypothesis has 1 parameter (1-1 = 0)."
   ]
  },
  {
   "cell_type": "code",
   "execution_count": 71,
   "metadata": {
    "ExecuteTime": {
     "end_time": "2021-05-30T06:00:12.602965Z",
     "start_time": "2021-05-30T05:58:43.286204Z"
    }
   },
   "outputs": [
    {
     "data": {
      "application/vnd.jupyter.widget-view+json": {
       "model_id": "bd9d97d806f04ad68c219e006f0830b8",
       "version_major": 2,
       "version_minor": 0
      },
      "text/plain": [
       "HBox(children=(FloatProgress(value=0.0), HTML(value='')))"
      ]
     },
     "metadata": {},
     "output_type": "display_data"
    },
    {
     "name": "stdout",
     "output_type": "stream",
     "text": [
      "\n"
     ]
    }
   ],
   "source": [
    "from scipy.stats import chi2\n",
    "\n",
    "bootstrap_s =  1.232\n",
    "test_statistics = []\n",
    "p_values = []\n",
    "global word_frequency_temp, frequency_values_temp, temp_words\n",
    "def neg_log_likelihood_temp(s):\n",
    "    N = sum(frequency_values_temp)\n",
    "    probs = np.log(frequency_values_temp**(-1 * s) / np.sum(np.arange(1,  N+1)**(-1 * s)))\n",
    "    summed = sum(probs * frequency_values_temp)\n",
    "    return -1 * summed\n",
    "\n",
    "for i in tqdm(range(0, 100)):\n",
    "    sample = resample(list_to_sample_from, replace=True, n_samples=1000)\n",
    "        \n",
    "    temp_words = [word for words in sample for word in words]\n",
    "    word_frequency_temp = Counter(temp_words)\n",
    "    word_frequency_temp = word_frequency_temp.most_common()\n",
    "    frequency_values_temp = [x[1] for x in word_frequency_temp]\n",
    "    frequency_values_temp = np.array(frequency_values_temp)\n",
    "    \n",
    "    s_best = minimize_scalar(neg_log_likelihood_temp, [0, 6.0] )\n",
    "    \n",
    "    log0 = np.log(np.array([zipf.pmf(n, bootstrap_s) for n in np.arange(1, len(frequency_values_temp) + 1)]))\n",
    "    log1 = np.log(np.array([zipf.pmf(n, s_best.x) for n in np.arange(1, len(frequency_values_temp) + 1)]))\n",
    "    D = np.sum(-2*(log0 - log1))\n",
    "    \n",
    "    test_statistics.append(D)\n",
    "     \n",
    "    p_values.append(1 - chi2.cdf(D, 1))\n",
    "    del word_frequency_temp, frequency_values_temp, temp_words"
   ]
  },
  {
   "cell_type": "code",
   "execution_count": 74,
   "metadata": {
    "ExecuteTime": {
     "end_time": "2021-05-30T16:30:07.048884Z",
     "start_time": "2021-05-30T16:30:06.873858Z"
    }
   },
   "outputs": [
    {
     "data": {
      "image/png": "[encoded data removed]",
      "text/plain": [
       "<Figure size 400x250 with 1 Axes>"
      ]
     },
     "metadata": {},
     "output_type": "display_data"
    }
   ],
   "source": [
    "sns.set_style('white')\n",
    "fig, axes = plt.subplots(1, 1, figsize=(8, 5), dpi = 50)\n",
    "sns.set(font_scale = 2)\n",
    "sns.histplot(p_values, ax = axes)\n",
    "\n",
    "plt.title('Bootstrap of the p values.')\n",
    "\n",
    "plt.tight_layout()\n",
    "plt.show()"
   ]
  },
  {
   "cell_type": "markdown",
   "metadata": {},
   "source": [
    "### Question 5 \n",
    "Now that we have a distribution that describes Donald Trump's \"speaking\" (writing) quality, **get the top 20% of words in this distribution**. By doing so, we avoid very common words (called stop words) such as \"the\", \"for\", \"and\", but we also avoid words that are very rarely used and therefore do not represent the level of speaker well. Give us 10 words that fall in this section."
   ]
  },
  {
   "cell_type": "markdown",
   "metadata": {},
   "source": [
    "### Answer 5"
   ]
  },
  {
   "cell_type": "markdown",
   "metadata": {},
   "source": [
    "We first put the words in a dataframe and use Panda's percentile function to get the top 20%. "
   ]
  },
  {
   "cell_type": "code",
   "execution_count": 11,
   "metadata": {
    "ExecuteTime": {
     "end_time": "2021-05-30T16:52:50.749278Z",
     "start_time": "2021-05-30T16:52:50.637437Z"
    }
   },
   "outputs": [],
   "source": [
    "all_words = [word for templist in tweets[['words']].values.tolist() for words in templist for word in words  ]\n",
    "word_frequency = Counter(all_words)\n",
    "word_frequency = word_frequency.most_common()\n",
    "frequency_values = [x[1] for x in word_frequency]\n",
    "word_frequency = [x[0] for x in word_frequency]"
   ]
  },
  {
   "cell_type": "code",
   "execution_count": 12,
   "metadata": {
    "ExecuteTime": {
     "end_time": "2021-05-30T16:52:52.639608Z",
     "start_time": "2021-05-30T16:52:52.614860Z"
    }
   },
   "outputs": [
    {
     "data": {
      "text/html": [
       "<div>\n",
       "<style scoped>\n",
       "    .dataframe tbody tr th:only-of-type {\n",
       "        vertical-align: middle;\n",
       "    }\n",
       "\n",
       "    .dataframe tbody tr th {\n",
       "        vertical-align: top;\n",
       "    }\n",
       "\n",
       "    .dataframe thead th {\n",
       "        text-align: right;\n",
       "    }\n",
       "</style>\n",
       "<table border=\"1\" class=\"dataframe\">\n",
       "  <thead>\n",
       "    <tr style=\"text-align: right;\">\n",
       "      <th></th>\n",
       "      <th>words</th>\n",
       "      <th>frequency</th>\n",
       "    </tr>\n",
       "  </thead>\n",
       "  <tbody>\n",
       "    <tr>\n",
       "      <th>0</th>\n",
       "      <td>the</td>\n",
       "      <td>12968</td>\n",
       "    </tr>\n",
       "    <tr>\n",
       "      <th>1</th>\n",
       "      <td>to</td>\n",
       "      <td>9506</td>\n",
       "    </tr>\n",
       "    <tr>\n",
       "      <th>2</th>\n",
       "      <td>realDonaldTrump</td>\n",
       "      <td>7663</td>\n",
       "    </tr>\n",
       "    <tr>\n",
       "      <th>3</th>\n",
       "      <td>a</td>\n",
       "      <td>7257</td>\n",
       "    </tr>\n",
       "    <tr>\n",
       "      <th>4</th>\n",
       "      <td>is</td>\n",
       "      <td>6753</td>\n",
       "    </tr>\n",
       "  </tbody>\n",
       "</table>\n",
       "</div>"
      ],
      "text/plain": [
       "             words  frequency\n",
       "0              the      12968\n",
       "1               to       9506\n",
       "2  realDonaldTrump       7663\n",
       "3                a       7257\n",
       "4               is       6753"
      ]
     },
     "execution_count": 12,
     "metadata": {},
     "output_type": "execute_result"
    }
   ],
   "source": [
    "percentile = pd.DataFrame({'words':word_frequency, 'frequency':frequency_values})\n",
    "percentile.head()"
   ]
  },
  {
   "cell_type": "code",
   "execution_count": 87,
   "metadata": {
    "ExecuteTime": {
     "end_time": "2021-05-30T16:44:50.091888Z",
     "start_time": "2021-05-30T16:44:50.083776Z"
    }
   },
   "outputs": [
    {
     "data": {
      "text/html": [
       "<div>\n",
       "<style scoped>\n",
       "    .dataframe tbody tr th:only-of-type {\n",
       "        vertical-align: middle;\n",
       "    }\n",
       "\n",
       "    .dataframe tbody tr th {\n",
       "        vertical-align: top;\n",
       "    }\n",
       "\n",
       "    .dataframe thead th {\n",
       "        text-align: right;\n",
       "    }\n",
       "</style>\n",
       "<table border=\"1\" class=\"dataframe\">\n",
       "  <thead>\n",
       "    <tr style=\"text-align: right;\">\n",
       "      <th></th>\n",
       "      <th>frequency</th>\n",
       "    </tr>\n",
       "  </thead>\n",
       "  <tbody>\n",
       "    <tr>\n",
       "      <th>1.0</th>\n",
       "      <td>12968.0</td>\n",
       "    </tr>\n",
       "    <tr>\n",
       "      <th>0.8</th>\n",
       "      <td>3.0</td>\n",
       "    </tr>\n",
       "  </tbody>\n",
       "</table>\n",
       "</div>"
      ],
      "text/plain": [
       "     frequency\n",
       "1.0    12968.0\n",
       "0.8        3.0"
      ]
     },
     "execution_count": 87,
     "metadata": {},
     "output_type": "execute_result"
    }
   ],
   "source": [
    "percentile.quantile([1, 0.8])"
   ]
  },
  {
   "cell_type": "markdown",
   "metadata": {},
   "source": [
    "The 80th percentile for frequency values is 3. We'll just grab the data points with frequency higher than or equal to 3."
   ]
  },
  {
   "cell_type": "code",
   "execution_count": 95,
   "metadata": {
    "ExecuteTime": {
     "end_time": "2021-05-30T16:46:40.316946Z",
     "start_time": "2021-05-30T16:46:40.307664Z"
    }
   },
   "outputs": [
    {
     "data": {
      "text/html": [
       "<div>\n",
       "<style scoped>\n",
       "    .dataframe tbody tr th:only-of-type {\n",
       "        vertical-align: middle;\n",
       "    }\n",
       "\n",
       "    .dataframe tbody tr th {\n",
       "        vertical-align: top;\n",
       "    }\n",
       "\n",
       "    .dataframe thead th {\n",
       "        text-align: right;\n",
       "    }\n",
       "</style>\n",
       "<table border=\"1\" class=\"dataframe\">\n",
       "  <thead>\n",
       "    <tr style=\"text-align: right;\">\n",
       "      <th></th>\n",
       "      <th>words</th>\n",
       "      <th>frequency</th>\n",
       "    </tr>\n",
       "  </thead>\n",
       "  <tbody>\n",
       "    <tr>\n",
       "      <th>0</th>\n",
       "      <td>the</td>\n",
       "      <td>12968</td>\n",
       "    </tr>\n",
       "    <tr>\n",
       "      <th>1</th>\n",
       "      <td>to</td>\n",
       "      <td>9506</td>\n",
       "    </tr>\n",
       "    <tr>\n",
       "      <th>2</th>\n",
       "      <td>realDonaldTrump</td>\n",
       "      <td>7663</td>\n",
       "    </tr>\n",
       "    <tr>\n",
       "      <th>3</th>\n",
       "      <td>a</td>\n",
       "      <td>7257</td>\n",
       "    </tr>\n",
       "    <tr>\n",
       "      <th>4</th>\n",
       "      <td>is</td>\n",
       "      <td>6753</td>\n",
       "    </tr>\n",
       "    <tr>\n",
       "      <th>5</th>\n",
       "      <td>and</td>\n",
       "      <td>6611</td>\n",
       "    </tr>\n",
       "    <tr>\n",
       "      <th>6</th>\n",
       "      <td>I</td>\n",
       "      <td>5678</td>\n",
       "    </tr>\n",
       "    <tr>\n",
       "      <th>7</th>\n",
       "      <td>of</td>\n",
       "      <td>5648</td>\n",
       "    </tr>\n",
       "    <tr>\n",
       "      <th>8</th>\n",
       "      <td>you</td>\n",
       "      <td>5597</td>\n",
       "    </tr>\n",
       "    <tr>\n",
       "      <th>9</th>\n",
       "      <td>in</td>\n",
       "      <td>5378</td>\n",
       "    </tr>\n",
       "  </tbody>\n",
       "</table>\n",
       "</div>"
      ],
      "text/plain": [
       "             words  frequency\n",
       "0              the      12968\n",
       "1               to       9506\n",
       "2  realDonaldTrump       7663\n",
       "3                a       7257\n",
       "4               is       6753\n",
       "5              and       6611\n",
       "6                I       5678\n",
       "7               of       5648\n",
       "8              you       5597\n",
       "9               in       5378"
      ]
     },
     "execution_count": 95,
     "metadata": {},
     "output_type": "execute_result"
    }
   ],
   "source": [
    "percentile = percentile.loc[percentile.frequency >= 3]\n",
    "percentile.head(10)"
   ]
  },
  {
   "cell_type": "markdown",
   "metadata": {},
   "source": [
    "### Question 6\n",
    "In natural langauge processing, a method to test the reading level of a writing is called the **Flesch Kincaid Grade Level Test**. Let's apply this test to the middle 50% of words that we've identified. Give a histogram of the results."
   ]
  },
  {
   "cell_type": "markdown",
   "metadata": {},
   "source": [
    "### Answer 6"
   ]
  },
  {
   "cell_type": "markdown",
   "metadata": {},
   "source": [
    "We use a Python library called py-readability-metrics (https://github.com/cdimascio/py-readability-metrics). "
   ]
  },
  {
   "cell_type": "code",
   "execution_count": 13,
   "metadata": {
    "ExecuteTime": {
     "end_time": "2021-05-30T16:54:02.629692Z",
     "start_time": "2021-05-30T16:54:02.616077Z"
    }
   },
   "outputs": [],
   "source": [
    "from readability import `Readability"
   ]
  },
  {
   "cell_type": "markdown",
   "metadata": {
    "ExecuteTime": {
     "end_time": "2021-05-30T16:55:08.576773Z",
     "start_time": "2021-05-30T16:55:08.560390Z"
    }
   },
   "source": [
    "because one tweet is too short to be tested, we combine 10 tweets together (considering one tweet to be around 10 words)."
   ]
  },
  {
   "cell_type": "code",
   "execution_count": 23,
   "metadata": {
    "ExecuteTime": {
     "end_time": "2021-05-30T17:01:13.237205Z",
     "start_time": "2021-05-30T17:01:13.165499Z"
    }
   },
   "outputs": [
    {
     "data": {
      "text/html": [
       "<div>\n",
       "<style scoped>\n",
       "    .dataframe tbody tr th:only-of-type {\n",
       "        vertical-align: middle;\n",
       "    }\n",
       "\n",
       "    .dataframe tbody tr th {\n",
       "        vertical-align: top;\n",
       "    }\n",
       "\n",
       "    .dataframe thead th {\n",
       "        text-align: right;\n",
       "    }\n",
       "</style>\n",
       "<table border=\"1\" class=\"dataframe\">\n",
       "  <thead>\n",
       "    <tr style=\"text-align: right;\">\n",
       "      <th></th>\n",
       "      <th>created_at</th>\n",
       "      <th>text</th>\n",
       "    </tr>\n",
       "  </thead>\n",
       "  <tbody>\n",
       "    <tr>\n",
       "      <th>0</th>\n",
       "      <td>2010-11-29 15:52:46 2010-10-28 18:53:40 2010-1...</td>\n",
       "      <td>Congratulations to Evan Lysacek for being nomi...</td>\n",
       "    </tr>\n",
       "    <tr>\n",
       "      <th>1</th>\n",
       "      <td>2010-12-10 14:42:15 2010-12-16 14:30:23 2010-1...</td>\n",
       "      <td>Congratulations to Brandy as our new Apprentic...</td>\n",
       "    </tr>\n",
       "  </tbody>\n",
       "</table>\n",
       "</div>"
      ],
      "text/plain": [
       "                                          created_at  \\\n",
       "0  2010-11-29 15:52:46 2010-10-28 18:53:40 2010-1...   \n",
       "1  2010-12-10 14:42:15 2010-12-16 14:30:23 2010-1...   \n",
       "\n",
       "                                                text  \n",
       "0  Congratulations to Evan Lysacek for being nomi...  \n",
       "1  Congratulations to Brandy as our new Apprentic...  "
      ]
     },
     "execution_count": 23,
     "metadata": {},
     "output_type": "execute_result"
    }
   ],
   "source": [
    "readinglevel = (tweets.groupby(tweets.index // 10).agg(' '.join))\n",
    "readinglevel.head(2)"
   ]
  },
  {
   "cell_type": "code",
   "execution_count": 29,
   "metadata": {
    "ExecuteTime": {
     "end_time": "2021-05-30T17:03:17.580477Z",
     "start_time": "2021-05-30T17:02:57.616289Z"
    }
   },
   "outputs": [],
   "source": [
    "grade_levels = []\n",
    "grade_scores = []\n",
    "for index, row in readinglevel.iterrows():\n",
    "    # we put a try statement in case there are still tweets than are <100 words.\n",
    "    try:\n",
    "        r = Readability(row['text'])\n",
    "        fk = r.flesch_kincaid()\n",
    "        grade_scores.append(fk.score)\n",
    "        grade_levels.append(fk.grade_level)\n",
    "    except:\n",
    "        pass\n",
    "grade_levels = [ int(x) for x in grade_levels ]"
   ]
  },
  {
   "cell_type": "code",
   "execution_count": 49,
   "metadata": {
    "ExecuteTime": {
     "end_time": "2021-05-30T17:13:31.901388Z",
     "start_time": "2021-05-30T17:13:31.710162Z"
    }
   },
   "outputs": [
    {
     "data": {
      "image/png": "[encoded data removed]",
      "text/plain": [
       "<Figure size 400x250 with 1 Axes>"
      ]
     },
     "metadata": {},
     "output_type": "display_data"
    }
   ],
   "source": [
    "sns.set_style('white')\n",
    "fig, axes = plt.subplots(1, 1, figsize=(8, 5), dpi = 50)\n",
    "sns.histplot(sorted(grade_levels, reverse = False), ax = axes, bins = 30)\n",
    "plt.title('Grade Levels of Trump\\'s Tweets')\n",
    "sns.set(font_scale = 2)\n",
    "axes.set_xlim([0, 15])\n",
    "plt.tight_layout()\n",
    "plt.show()"
   ]
  },
  {
   "cell_type": "code",
   "execution_count": 51,
   "metadata": {
    "ExecuteTime": {
     "end_time": "2021-05-30T17:14:13.163809Z",
     "start_time": "2021-05-30T17:14:13.159844Z"
    }
   },
   "outputs": [
    {
     "data": {
      "text/plain": [
       "7.338757396449704"
      ]
     },
     "execution_count": 51,
     "metadata": {},
     "output_type": "execute_result"
    }
   ],
   "source": [
    "np.mean(grade_levels)"
   ]
  },
  {
   "cell_type": "markdown",
   "metadata": {},
   "source": [
    "Donald Trump's average reading level is 7th grade, which is around 12 years old. "
   ]
  },
  {
   "cell_type": "markdown",
   "metadata": {},
   "source": [
    "### Question 7\n",
    "Calculate and present a 95% confidence interval of the grade results per tweet."
   ]
  },
  {
   "cell_type": "markdown",
   "metadata": {},
   "source": [
    "### Answer 7"
   ]
  },
  {
   "cell_type": "markdown",
   "metadata": {},
   "source": [
    "We make use of bootstrapping method again to get the sample mean and use a normal distribution citing the Central Limit Theorem."
   ]
  },
  {
   "cell_type": "code",
   "execution_count": 52,
   "metadata": {
    "ExecuteTime": {
     "end_time": "2021-05-30T17:28:29.157127Z",
     "start_time": "2021-05-30T17:28:29.153059Z"
    }
   },
   "outputs": [],
   "source": [
    "def bootstrap():\n",
    "    temp = tweets.sample(1000)\n",
    "    readinglevel = (temp.groupby(temp.index // 10).agg(' '.join))\n",
    "    for index, row in readinglevel.iterrows():\n",
    "        # we put a try statement in case there are still tweets than are <100 words.\n",
    "        try:\n",
    "            r = Readability(row['text'])\n",
    "            fk = r.flesch_kincaid()\n",
    "            grade_scores.append(int(fk.score))\n",
    "            grade_levels.append(int(fk.grade_level))\n",
    "        except:\n",
    "            pass\n",
    "    \n",
    "    return np.mean(grade_levels)"
   ]
  },
  {
   "cell_type": "code",
   "execution_count": 56,
   "metadata": {
    "ExecuteTime": {
     "end_time": "2021-05-30T18:02:07.845947Z",
     "start_time": "2021-05-30T17:31:37.619893Z"
    }
   },
   "outputs": [
    {
     "data": {
      "application/vnd.jupyter.widget-view+json": {
       "model_id": "4354a5b1676640b59ed4c212420de7dd",
       "version_major": 2,
       "version_minor": 0
      },
      "text/plain": [
       "HBox(children=(FloatProgress(value=0.0, max=1000.0), HTML(value='')))"
      ]
     },
     "metadata": {},
     "output_type": "display_data"
    },
    {
     "name": "stdout",
     "output_type": "stream",
     "text": [
      "\n"
     ]
    }
   ],
   "source": [
    "averaged_grades = []\n",
    "for i in tqdm(range(0, 1000)):\n",
    "    averaged_grades.append(bootstrap())"
   ]
  },
  {
   "cell_type": "code",
   "execution_count": 60,
   "metadata": {
    "ExecuteTime": {
     "end_time": "2021-05-30T18:25:20.936852Z",
     "start_time": "2021-05-30T18:25:20.774962Z"
    }
   },
   "outputs": [
    {
     "data": {
      "image/png": "[encoded data removed]",
      "text/plain": [
       "<Figure size 400x250 with 1 Axes>"
      ]
     },
     "metadata": {},
     "output_type": "display_data"
    }
   ],
   "source": [
    "sns.set_style('white')\n",
    "fig, axes = plt.subplots(1, 1, figsize=(8, 5), dpi = 50)\n",
    "sns.histplot(sorted(averaged_grades, reverse = False), ax = axes, bins = 20)\n",
    "plt.title('Grade Levels of Trump\\'s Tweets')\n",
    "sns.set(font_scale = 2)\n",
    "plt.tight_layout()\n",
    "plt.show()"
   ]
  },
  {
   "cell_type": "code",
   "execution_count": 61,
   "metadata": {
    "ExecuteTime": {
     "end_time": "2021-05-30T18:26:07.386979Z",
     "start_time": "2021-05-30T18:26:07.384204Z"
    }
   },
   "outputs": [],
   "source": [
    "mean_grade = np.mean(averaged_grades)\n",
    "std_grade = np.std(averaged_grades)"
   ]
  },
  {
   "cell_type": "markdown",
   "metadata": {},
   "source": [
    "The confidence interval is $\\mu - 1.96*\\frac{\\sigma}{\\sqrt{n}}$ < $\\mu$ < $\\mu + 1.96*\\frac{\\sigma}{\\sqrt{n}}$"
   ]
  },
  {
   "cell_type": "code",
   "execution_count": 62,
   "metadata": {
    "ExecuteTime": {
     "end_time": "2021-05-31T18:48:48.019876Z",
     "start_time": "2021-05-31T18:48:47.958936Z"
    }
   },
   "outputs": [
    {
     "name": "stdout",
     "output_type": "stream",
     "text": [
      "7.362628739609287\n",
      "7.364733810344065\n"
     ]
    }
   ],
   "source": [
    "lower_bound = mean_grade - 1.96 * std_grade/np.sqrt(1000) \n",
    "upper_bound = mean_grade + 1.96 * std_grade/np.sqrt(1000)\n",
    "\n",
    "print(lower_bound)\n",
    "print(upper_bound)"
   ]
  },
  {
   "cell_type": "markdown",
   "metadata": {},
   "source": [
    "Donald Trump speaks at a 7th grade level."
   ]
  }
 ],
 "metadata": {
  "kernelspec": {
   "display_name": "Python 3",
   "language": "python",
   "name": "python3"
  },
  "language_info": {
   "codemirror_mode": {
    "name": "ipython",
    "version": 3
   },
   "file_extension": ".py",
   "mimetype": "text/x-python",
   "name": "python",
   "nbconvert_exporter": "python",
   "pygments_lexer": "ipython3",
   "version": "3.8.5"
  },
  "latex_envs": {
   "LaTeX_envs_menu_present": true,
   "autoclose": false,
   "autocomplete": true,
   "bibliofile": "biblio.bib",
   "cite_by": "apalike",
   "current_citInitial": 1,
   "eqLabelWithNumbers": true,
   "eqNumInitial": 1,
   "hotkeys": {
    "equation": "Ctrl-E",
    "itemize": "Ctrl-I"
   },
   "labels_anchors": false,
   "latex_user_defs": false,
   "report_style_numbering": false,
   "user_envs_cfg": false
  },
  "toc": {
   "base_numbering": 1,
   "nav_menu": {},
   "number_sections": false,
   "sideBar": true,
   "skip_h1_title": true,
   "title_cell": "Table of Contents",
   "title_sidebar": "Contents",
   "toc_cell": false,
   "toc_position": {
    "height": "calc(100% - 180px)",
    "left": "10px",
    "top": "150px",
    "width": "241px"
   },
   "toc_section_display": true,
   "toc_window_display": true
  },
  "varInspector": {
   "cols": {
    "lenName": 16,
    "lenType": 16,
    "lenVar": 40
   },
   "kernels_config": {
    "python": {
     "delete_cmd_postfix": "",
     "delete_cmd_prefix": "del ",
     "library": "var_list.py",
     "varRefreshCmd": "print(var_dic_list())"
    },
    "r": {
     "delete_cmd_postfix": ") ",
     "delete_cmd_prefix": "rm(",
     "library": "var_list.r",
     "varRefreshCmd": "cat(var_dic_list()) "
    }
   },
   "position": {
    "height": "553.85px",
    "left": "1550px",
    "right": "20px",
    "top": "120px",
    "width": "350px"
   },
   "types_to_exclude": [
    "module",
    "function",
    "builtin_function_or_method",
    "instance",
    "_Feature"
   ],
   "window_display": false
  }
 },
 "nbformat": 4,
 "nbformat_minor": 4
}
