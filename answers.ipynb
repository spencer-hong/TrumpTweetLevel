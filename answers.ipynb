{
 "cells": [
  {
   "cell_type": "markdown",
   "metadata": {},
   "source": [
    "# Final Project ChE 395\n",
    "by **Spencer Hong**\n",
    "\n",
    "\"Trump speaks at level of 8-year-old, new analysis finds.\"  \n",
    "Is this true? Can we prove it?"
   ]
  },
  {
   "cell_type": "markdown",
   "metadata": {},
   "source": [
    "### Let's play around with the data"
   ]
  },
  {
   "cell_type": "code",
   "execution_count": 1,
   "metadata": {
    "ExecuteTime": {
     "end_time": "2021-05-28T20:39:01.720408Z",
     "start_time": "2021-05-28T20:39:01.475658Z"
    }
   },
   "outputs": [],
   "source": [
    "import pandas as pd"
   ]
  },
  {
   "cell_type": "code",
   "execution_count": 2,
   "metadata": {
    "ExecuteTime": {
     "end_time": "2021-05-28T20:39:02.164599Z",
     "start_time": "2021-05-28T20:39:01.722533Z"
    }
   },
   "outputs": [
    {
     "data": {
      "text/html": [
       "<div>\n",
       "<style scoped>\n",
       "    .dataframe tbody tr th:only-of-type {\n",
       "        vertical-align: middle;\n",
       "    }\n",
       "\n",
       "    .dataframe tbody tr th {\n",
       "        vertical-align: top;\n",
       "    }\n",
       "\n",
       "    .dataframe thead th {\n",
       "        text-align: right;\n",
       "    }\n",
       "</style>\n",
       "<table border=\"1\" class=\"dataframe\">\n",
       "  <thead>\n",
       "    <tr style=\"text-align: right;\">\n",
       "      <th></th>\n",
       "      <th>status_id</th>\n",
       "      <th>created_at</th>\n",
       "      <th>user_id</th>\n",
       "      <th>screen_name</th>\n",
       "      <th>text</th>\n",
       "      <th>source</th>\n",
       "      <th>display_text_width</th>\n",
       "      <th>reply_to_status_id</th>\n",
       "      <th>reply_to_user_id</th>\n",
       "      <th>reply_to_screen_name</th>\n",
       "      <th>...</th>\n",
       "      <th>retweet_verified</th>\n",
       "      <th>place_url</th>\n",
       "      <th>place_name</th>\n",
       "      <th>place_full_name</th>\n",
       "      <th>place_type</th>\n",
       "      <th>country</th>\n",
       "      <th>country_code</th>\n",
       "      <th>geo_coords</th>\n",
       "      <th>coords_coords</th>\n",
       "      <th>bbox_coords</th>\n",
       "    </tr>\n",
       "  </thead>\n",
       "  <tbody>\n",
       "    <tr>\n",
       "      <th>0</th>\n",
       "      <td>x1864367186</td>\n",
       "      <td>2009-05-20 22:29:47</td>\n",
       "      <td>x25073877</td>\n",
       "      <td>realDonaldTrump</td>\n",
       "      <td>Read a great interview with Donald Trump that ...</td>\n",
       "      <td>Twitter Web Client</td>\n",
       "      <td>112</td>\n",
       "      <td>NaN</td>\n",
       "      <td>NaN</td>\n",
       "      <td>NaN</td>\n",
       "      <td>...</td>\n",
       "      <td>NaN</td>\n",
       "      <td>NaN</td>\n",
       "      <td>NaN</td>\n",
       "      <td>NaN</td>\n",
       "      <td>NaN</td>\n",
       "      <td>NaN</td>\n",
       "      <td>NaN</td>\n",
       "      <td>NaN</td>\n",
       "      <td>NaN</td>\n",
       "      <td>NaN</td>\n",
       "    </tr>\n",
       "    <tr>\n",
       "      <th>1</th>\n",
       "      <td>x9273573134835712</td>\n",
       "      <td>2010-11-29 15:52:46</td>\n",
       "      <td>x25073877</td>\n",
       "      <td>realDonaldTrump</td>\n",
       "      <td>Congratulations to Evan Lysacek for being nomi...</td>\n",
       "      <td>Twitter Web Client</td>\n",
       "      <td>127</td>\n",
       "      <td>NaN</td>\n",
       "      <td>NaN</td>\n",
       "      <td>NaN</td>\n",
       "      <td>...</td>\n",
       "      <td>NaN</td>\n",
       "      <td>NaN</td>\n",
       "      <td>NaN</td>\n",
       "      <td>NaN</td>\n",
       "      <td>NaN</td>\n",
       "      <td>NaN</td>\n",
       "      <td>NaN</td>\n",
       "      <td>NaN</td>\n",
       "      <td>NaN</td>\n",
       "      <td>NaN</td>\n",
       "    </tr>\n",
       "    <tr>\n",
       "      <th>2</th>\n",
       "      <td>x29014512646</td>\n",
       "      <td>2010-10-28 18:53:40</td>\n",
       "      <td>x25073877</td>\n",
       "      <td>realDonaldTrump</td>\n",
       "      <td>I was on The View this morning. We talked abou...</td>\n",
       "      <td>Twitter Web Client</td>\n",
       "      <td>139</td>\n",
       "      <td>NaN</td>\n",
       "      <td>NaN</td>\n",
       "      <td>NaN</td>\n",
       "      <td>...</td>\n",
       "      <td>NaN</td>\n",
       "      <td>NaN</td>\n",
       "      <td>NaN</td>\n",
       "      <td>NaN</td>\n",
       "      <td>NaN</td>\n",
       "      <td>NaN</td>\n",
       "      <td>NaN</td>\n",
       "      <td>NaN</td>\n",
       "      <td>NaN</td>\n",
       "      <td>NaN</td>\n",
       "    </tr>\n",
       "    <tr>\n",
       "      <th>3</th>\n",
       "      <td>x7483813542232064</td>\n",
       "      <td>2010-11-24 17:20:54</td>\n",
       "      <td>x25073877</td>\n",
       "      <td>realDonaldTrump</td>\n",
       "      <td>Tomorrow night's episode of The Apprentice del...</td>\n",
       "      <td>Twitter Web Client</td>\n",
       "      <td>140</td>\n",
       "      <td>NaN</td>\n",
       "      <td>NaN</td>\n",
       "      <td>NaN</td>\n",
       "      <td>...</td>\n",
       "      <td>NaN</td>\n",
       "      <td>NaN</td>\n",
       "      <td>NaN</td>\n",
       "      <td>NaN</td>\n",
       "      <td>NaN</td>\n",
       "      <td>NaN</td>\n",
       "      <td>NaN</td>\n",
       "      <td>NaN</td>\n",
       "      <td>NaN</td>\n",
       "      <td>NaN</td>\n",
       "    </tr>\n",
       "    <tr>\n",
       "      <th>4</th>\n",
       "      <td>x5775731054</td>\n",
       "      <td>2009-11-16 21:06:10</td>\n",
       "      <td>x25073877</td>\n",
       "      <td>realDonaldTrump</td>\n",
       "      <td>Donald Trump Partners with TV1 on New Reality ...</td>\n",
       "      <td>Twitter Web Client</td>\n",
       "      <td>116</td>\n",
       "      <td>NaN</td>\n",
       "      <td>NaN</td>\n",
       "      <td>NaN</td>\n",
       "      <td>...</td>\n",
       "      <td>NaN</td>\n",
       "      <td>NaN</td>\n",
       "      <td>NaN</td>\n",
       "      <td>NaN</td>\n",
       "      <td>NaN</td>\n",
       "      <td>NaN</td>\n",
       "      <td>NaN</td>\n",
       "      <td>NaN</td>\n",
       "      <td>NaN</td>\n",
       "      <td>NaN</td>\n",
       "    </tr>\n",
       "  </tbody>\n",
       "</table>\n",
       "<p>5 rows × 68 columns</p>\n",
       "</div>"
      ],
      "text/plain": [
       "           status_id           created_at    user_id      screen_name  \\\n",
       "0        x1864367186  2009-05-20 22:29:47  x25073877  realDonaldTrump   \n",
       "1  x9273573134835712  2010-11-29 15:52:46  x25073877  realDonaldTrump   \n",
       "2       x29014512646  2010-10-28 18:53:40  x25073877  realDonaldTrump   \n",
       "3  x7483813542232064  2010-11-24 17:20:54  x25073877  realDonaldTrump   \n",
       "4        x5775731054  2009-11-16 21:06:10  x25073877  realDonaldTrump   \n",
       "\n",
       "                                                text              source  \\\n",
       "0  Read a great interview with Donald Trump that ...  Twitter Web Client   \n",
       "1  Congratulations to Evan Lysacek for being nomi...  Twitter Web Client   \n",
       "2  I was on The View this morning. We talked abou...  Twitter Web Client   \n",
       "3  Tomorrow night's episode of The Apprentice del...  Twitter Web Client   \n",
       "4  Donald Trump Partners with TV1 on New Reality ...  Twitter Web Client   \n",
       "\n",
       "   display_text_width reply_to_status_id reply_to_user_id  \\\n",
       "0                 112                NaN              NaN   \n",
       "1                 127                NaN              NaN   \n",
       "2                 139                NaN              NaN   \n",
       "3                 140                NaN              NaN   \n",
       "4                 116                NaN              NaN   \n",
       "\n",
       "  reply_to_screen_name  ...  retweet_verified  place_url  place_name  \\\n",
       "0                  NaN  ...               NaN        NaN         NaN   \n",
       "1                  NaN  ...               NaN        NaN         NaN   \n",
       "2                  NaN  ...               NaN        NaN         NaN   \n",
       "3                  NaN  ...               NaN        NaN         NaN   \n",
       "4                  NaN  ...               NaN        NaN         NaN   \n",
       "\n",
       "   place_full_name place_type country country_code geo_coords coords_coords  \\\n",
       "0              NaN        NaN     NaN          NaN        NaN           NaN   \n",
       "1              NaN        NaN     NaN          NaN        NaN           NaN   \n",
       "2              NaN        NaN     NaN          NaN        NaN           NaN   \n",
       "3              NaN        NaN     NaN          NaN        NaN           NaN   \n",
       "4              NaN        NaN     NaN          NaN        NaN           NaN   \n",
       "\n",
       "  bbox_coords  \n",
       "0         NaN  \n",
       "1         NaN  \n",
       "2         NaN  \n",
       "3         NaN  \n",
       "4         NaN  \n",
       "\n",
       "[5 rows x 68 columns]"
      ]
     },
     "execution_count": 2,
     "metadata": {},
     "output_type": "execute_result"
    }
   ],
   "source": [
    "tweets = pd.read_csv('data/trumptweets-1515775693.tweets.csv', low_memory = False)\n",
    "tweets.head()"
   ]
  },
  {
   "cell_type": "markdown",
   "metadata": {},
   "source": [
    "What is the range of dates on this dataset?"
   ]
  },
  {
   "cell_type": "code",
   "execution_count": 3,
   "metadata": {
    "ExecuteTime": {
     "end_time": "2021-05-28T20:39:02.197964Z",
     "start_time": "2021-05-28T20:39:02.166810Z"
    }
   },
   "outputs": [
    {
     "data": {
      "text/html": [
       "<div>\n",
       "<style scoped>\n",
       "    .dataframe tbody tr th:only-of-type {\n",
       "        vertical-align: middle;\n",
       "    }\n",
       "\n",
       "    .dataframe tbody tr th {\n",
       "        vertical-align: top;\n",
       "    }\n",
       "\n",
       "    .dataframe thead th {\n",
       "        text-align: right;\n",
       "    }\n",
       "</style>\n",
       "<table border=\"1\" class=\"dataframe\">\n",
       "  <thead>\n",
       "    <tr style=\"text-align: right;\">\n",
       "      <th></th>\n",
       "      <th>created_at</th>\n",
       "    </tr>\n",
       "  </thead>\n",
       "  <tbody>\n",
       "    <tr>\n",
       "      <th>18</th>\n",
       "      <td>2009-05-04 18:54:25</td>\n",
       "    </tr>\n",
       "    <tr>\n",
       "      <th>32644</th>\n",
       "      <td>2018-01-12 13:48:49</td>\n",
       "    </tr>\n",
       "  </tbody>\n",
       "</table>\n",
       "</div>"
      ],
      "text/plain": [
       "                created_at\n",
       "18     2009-05-04 18:54:25\n",
       "32644  2018-01-12 13:48:49"
      ]
     },
     "execution_count": 3,
     "metadata": {},
     "output_type": "execute_result"
    }
   ],
   "source": [
    "tweets[['created_at']].sort_values('created_at').iloc[[0, -1]]"
   ]
  },
  {
   "cell_type": "markdown",
   "metadata": {},
   "source": [
    "Our analysis will pertain to Donald Trump tweets from 2009 to 2018. "
   ]
  },
  {
   "cell_type": "markdown",
   "metadata": {},
   "source": [
    "How often does Donald Trump retweet vs. spit out a tweet of his own?"
   ]
  },
  {
   "cell_type": "code",
   "execution_count": 4,
   "metadata": {
    "ExecuteTime": {
     "end_time": "2021-05-28T20:39:02.206046Z",
     "start_time": "2021-05-28T20:39:02.200275Z"
    }
   },
   "outputs": [
    {
     "data": {
      "text/plain": [
       "1.5627855967830377"
      ]
     },
     "execution_count": 4,
     "metadata": {},
     "output_type": "execute_result"
    }
   ],
   "source": [
    "len(tweets[tweets.is_retweet])/len(tweets) * 100"
   ]
  },
  {
   "cell_type": "markdown",
   "metadata": {},
   "source": [
    "He only retweets 1.6% of the time. This means we have a good enough dataset to analyze his own writing. Let's omit retweets from the dataset. We're also only worried about the text, so let's just keep the text and the date, and drop everything else. "
   ]
  },
  {
   "cell_type": "code",
   "execution_count": 5,
   "metadata": {
    "ExecuteTime": {
     "end_time": "2021-05-28T20:39:02.242075Z",
     "start_time": "2021-05-28T20:39:02.208484Z"
    }
   },
   "outputs": [
    {
     "data": {
      "text/html": [
       "<div>\n",
       "<style scoped>\n",
       "    .dataframe tbody tr th:only-of-type {\n",
       "        vertical-align: middle;\n",
       "    }\n",
       "\n",
       "    .dataframe tbody tr th {\n",
       "        vertical-align: top;\n",
       "    }\n",
       "\n",
       "    .dataframe thead th {\n",
       "        text-align: right;\n",
       "    }\n",
       "</style>\n",
       "<table border=\"1\" class=\"dataframe\">\n",
       "  <thead>\n",
       "    <tr style=\"text-align: right;\">\n",
       "      <th></th>\n",
       "      <th>created_at</th>\n",
       "      <th>text</th>\n",
       "    </tr>\n",
       "  </thead>\n",
       "  <tbody>\n",
       "    <tr>\n",
       "      <th>0</th>\n",
       "      <td>2009-05-20 22:29:47</td>\n",
       "      <td>Read a great interview with Donald Trump that ...</td>\n",
       "    </tr>\n",
       "    <tr>\n",
       "      <th>1</th>\n",
       "      <td>2010-11-29 15:52:46</td>\n",
       "      <td>Congratulations to Evan Lysacek for being nomi...</td>\n",
       "    </tr>\n",
       "    <tr>\n",
       "      <th>2</th>\n",
       "      <td>2010-10-28 18:53:40</td>\n",
       "      <td>I was on The View this morning. We talked abou...</td>\n",
       "    </tr>\n",
       "    <tr>\n",
       "      <th>3</th>\n",
       "      <td>2010-11-24 17:20:54</td>\n",
       "      <td>Tomorrow night's episode of The Apprentice del...</td>\n",
       "    </tr>\n",
       "    <tr>\n",
       "      <th>4</th>\n",
       "      <td>2009-11-16 21:06:10</td>\n",
       "      <td>Donald Trump Partners with TV1 on New Reality ...</td>\n",
       "    </tr>\n",
       "  </tbody>\n",
       "</table>\n",
       "</div>"
      ],
      "text/plain": [
       "            created_at                                               text\n",
       "0  2009-05-20 22:29:47  Read a great interview with Donald Trump that ...\n",
       "1  2010-11-29 15:52:46  Congratulations to Evan Lysacek for being nomi...\n",
       "2  2010-10-28 18:53:40  I was on The View this morning. We talked abou...\n",
       "3  2010-11-24 17:20:54  Tomorrow night's episode of The Apprentice del...\n",
       "4  2009-11-16 21:06:10  Donald Trump Partners with TV1 on New Reality ..."
      ]
     },
     "execution_count": 5,
     "metadata": {},
     "output_type": "execute_result"
    }
   ],
   "source": [
    "tweets = tweets[~tweets.is_retweet][['created_at','text']]\n",
    "tweets.head()"
   ]
  },
  {
   "cell_type": "markdown",
   "metadata": {},
   "source": [
    "If you look closely, even if we take out the retweets, there are some weird tweets (looks like not a first-person type of writing). See below for examples."
   ]
  },
  {
   "cell_type": "code",
   "execution_count": 6,
   "metadata": {
    "ExecuteTime": {
     "end_time": "2021-05-28T20:39:02.248767Z",
     "start_time": "2021-05-28T20:39:02.244473Z"
    }
   },
   "outputs": [
    {
     "data": {
      "text/plain": [
       "'Read a great interview with Donald Trump that appeared in The New York Times Magazine: http://tinyurl.com/qsx4o6'"
      ]
     },
     "execution_count": 6,
     "metadata": {},
     "output_type": "execute_result"
    }
   ],
   "source": [
    "tweets.iloc[0].text"
   ]
  },
  {
   "cell_type": "code",
   "execution_count": 7,
   "metadata": {
    "ExecuteTime": {
     "end_time": "2021-05-28T20:39:02.255804Z",
     "start_time": "2021-05-28T20:39:02.251262Z"
    }
   },
   "outputs": [
    {
     "data": {
      "text/plain": [
       "\"Donald Trump Partners with TV1 on New Reality Series Entitled, Omarosa's Ultimate Merger: http://tinyurl.com/yk5m3lc\""
      ]
     },
     "execution_count": 7,
     "metadata": {},
     "output_type": "execute_result"
    }
   ],
   "source": [
    "tweets.iloc[4].text"
   ]
  },
  {
   "cell_type": "markdown",
   "metadata": {},
   "source": [
    "after some research, it is clear that even the non-retweets may not come from himself -- and to get to the heart of the question, we want to only get the tweets that represent Donald Trump as himself, no one else. Let's also avoid all the media links. Trump also sometimes retweets other accounts using \"RT @account\" method. Let's avoid this as well."
   ]
  },
  {
   "cell_type": "code",
   "execution_count": 8,
   "metadata": {
    "ExecuteTime": {
     "end_time": "2021-05-28T20:39:02.302591Z",
     "start_time": "2021-05-28T20:39:02.261321Z"
    }
   },
   "outputs": [
    {
     "name": "stdout",
     "output_type": "stream",
     "text": [
      "we have 24669 tweets after preprocessing\n"
     ]
    },
    {
     "data": {
      "text/html": [
       "<div>\n",
       "<style scoped>\n",
       "    .dataframe tbody tr th:only-of-type {\n",
       "        vertical-align: middle;\n",
       "    }\n",
       "\n",
       "    .dataframe tbody tr th {\n",
       "        vertical-align: top;\n",
       "    }\n",
       "\n",
       "    .dataframe thead th {\n",
       "        text-align: right;\n",
       "    }\n",
       "</style>\n",
       "<table border=\"1\" class=\"dataframe\">\n",
       "  <thead>\n",
       "    <tr style=\"text-align: right;\">\n",
       "      <th></th>\n",
       "      <th>created_at</th>\n",
       "      <th>text</th>\n",
       "    </tr>\n",
       "  </thead>\n",
       "  <tbody>\n",
       "    <tr>\n",
       "      <th>1</th>\n",
       "      <td>2010-11-29 15:52:46</td>\n",
       "      <td>Congratulations to Evan Lysacek for being nomi...</td>\n",
       "    </tr>\n",
       "    <tr>\n",
       "      <th>2</th>\n",
       "      <td>2010-10-28 18:53:40</td>\n",
       "      <td>I was on The View this morning. We talked abou...</td>\n",
       "    </tr>\n",
       "  </tbody>\n",
       "</table>\n",
       "</div>"
      ],
      "text/plain": [
       "            created_at                                               text\n",
       "1  2010-11-29 15:52:46  Congratulations to Evan Lysacek for being nomi...\n",
       "2  2010-10-28 18:53:40  I was on The View this morning. We talked abou..."
      ]
     },
     "execution_count": 8,
     "metadata": {},
     "output_type": "execute_result"
    }
   ],
   "source": [
    "tweets = tweets[~(tweets.text.str.contains('http') | tweets.text.str.contains('RT @'))]\n",
    "print(f'we have {tweets.shape[0]} tweets after preprocessing')\n",
    "tweets.head(2)"
   ]
  },
  {
   "cell_type": "markdown",
   "metadata": {},
   "source": [
    "Okay, now we're ready."
   ]
  },
  {
   "cell_type": "markdown",
   "metadata": {},
   "source": [
    "### Question 1\n",
    "What distribution does Donald Trump's word frequency follow? For now, just plot, and find a distribution that might fit this. No parameters are needed yet, just a visual approximation."
   ]
  },
  {
   "cell_type": "markdown",
   "metadata": {},
   "source": [
    "### Answer 1"
   ]
  },
  {
   "cell_type": "markdown",
   "metadata": {},
   "source": [
    "We first have to tokenize the text. This means to split the text into individual word(s). We are going to use unigram-approach, which means that each word is one word. Let's also get rid of punctuations."
   ]
  },
  {
   "cell_type": "code",
   "execution_count": 9,
   "metadata": {
    "ExecuteTime": {
     "end_time": "2021-05-28T20:39:03.765806Z",
     "start_time": "2021-05-28T20:39:02.306293Z"
    }
   },
   "outputs": [],
   "source": [
    "# importing an useful tokenizer\n",
    "from nltk import word_tokenize\n",
    "# this is regex!\n",
    "import re"
   ]
  },
  {
   "cell_type": "code",
   "execution_count": 10,
   "metadata": {
    "ExecuteTime": {
     "end_time": "2021-05-28T20:39:06.870511Z",
     "start_time": "2021-05-28T20:39:03.767513Z"
    }
   },
   "outputs": [
    {
     "data": {
      "text/plain": [
       "array([list(['Congratulations', 'to', 'Evan', 'Lysacek', 'for', 'being', 'nominated', 'SI', 'sportsman', 'of', 'the', 'year', 'Hes', 'a', 'great', 'guy', 'and', 'he', 'has', 'my', 'vote', 'EvanForSI'])],\n",
       "      dtype=object)"
      ]
     },
     "execution_count": 10,
     "metadata": {},
     "output_type": "execute_result"
    }
   ],
   "source": [
    "tweets['words'] = tweets['text'].apply(lambda x: word_tokenize(re.sub(r'[^\\w\\s]', '', x)))\n",
    "tweets[['words']].head(1).words.values"
   ]
  },
  {
   "cell_type": "markdown",
   "metadata": {},
   "source": [
    "Now, we have to go through every tweet and start counting. Python provides an excellent built-in collection tool that allows this."
   ]
  },
  {
   "cell_type": "code",
   "execution_count": 11,
   "metadata": {
    "ExecuteTime": {
     "end_time": "2021-05-28T20:39:06.874602Z",
     "start_time": "2021-05-28T20:39:06.872434Z"
    }
   },
   "outputs": [],
   "source": [
    "from collections import Counter"
   ]
  },
  {
   "cell_type": "code",
   "execution_count": 12,
   "metadata": {
    "ExecuteTime": {
     "end_time": "2021-05-28T20:39:06.944310Z",
     "start_time": "2021-05-28T20:39:06.876663Z"
    }
   },
   "outputs": [
    {
     "data": {
      "text/plain": [
       "421566"
      ]
     },
     "execution_count": 12,
     "metadata": {},
     "output_type": "execute_result"
    }
   ],
   "source": [
    "all_words = [word for templist in tweets[['words']].values.tolist() for words in templist for word in words  ]\n",
    "len(all_words)"
   ]
  },
  {
   "cell_type": "markdown",
   "metadata": {},
   "source": [
    "there are more than 400,000 words (not unique) in his tweets from 2009 to 2017."
   ]
  },
  {
   "cell_type": "code",
   "execution_count": 13,
   "metadata": {
    "ExecuteTime": {
     "end_time": "2021-05-28T20:39:07.022566Z",
     "start_time": "2021-05-28T20:39:06.946710Z"
    }
   },
   "outputs": [
    {
     "data": {
      "text/plain": [
       "['the', 'to', 'realDonaldTrump', 'a', 'is', 'and', 'I', 'of', 'you', 'in']"
      ]
     },
     "execution_count": 13,
     "metadata": {},
     "output_type": "execute_result"
    }
   ],
   "source": [
    "word_frequency = Counter(all_words)\n",
    "sorted(word_frequency, key=word_frequency.get, reverse=True)[:10]"
   ]
  },
  {
   "cell_type": "markdown",
   "metadata": {},
   "source": [
    "It makes sense that the top 10 words include \"the\", \"to\", his own Twitter name, and \"a\". "
   ]
  },
  {
   "cell_type": "code",
   "execution_count": 39,
   "metadata": {
    "ExecuteTime": {
     "end_time": "2021-05-28T20:44:28.639063Z",
     "start_time": "2021-05-28T20:44:28.636270Z"
    }
   },
   "outputs": [],
   "source": [
    "# plotting tools\n",
    "import matplotlib.pyplot as plt\n",
    "import seaborn as sns\n",
    "import numpy as np\n",
    "sns.set_style(\"white\")"
   ]
  },
  {
   "cell_type": "code",
   "execution_count": 33,
   "metadata": {
    "ExecuteTime": {
     "end_time": "2021-05-28T20:43:16.532361Z",
     "start_time": "2021-05-28T20:43:16.323144Z"
    }
   },
   "outputs": [
    {
     "data": {
      "image/png": "[encoded data removed]",
      "text/plain": [
       "<Figure size 400x250 with 1 Axes>"
      ]
     },
     "metadata": {},
     "output_type": "display_data"
    }
   ],
   "source": [
    "word_frequency = Counter(all_words)\n",
    "word_frequency = word_frequency.most_common()\n",
    "frequency_values = [x[1] for x in word_frequency]\n",
    "\n",
    "fig, axes = plt.subplots(1, 1, figsize=(8, 5), dpi = 50)\n",
    "sns.set(font_scale = 2)\n",
    "sns.scatterplot(x = np.arange(0, len(word_frequency))[:500], y = frequency_values[:500], ax= axes)\n",
    "\n",
    "plt.title('The first 500 words')\n",
    "axes.set_xlabel('Most common word index')\n",
    "axes.set_ylabel('Word frequency')\n",
    "plt.show()"
   ]
  },
  {
   "cell_type": "markdown",
   "metadata": {
    "ExecuteTime": {
     "end_time": "2021-05-28T19:16:20.194266Z",
     "start_time": "2021-05-28T19:16:20.190395Z"
    }
   },
   "source": [
    "This fits the Zipf's law.   \n",
    "$$f(k; s, N) = \\frac{\\frac{1}{k^s}}{\\sum_{1}^{N}{\\frac{1}{n^s}}}$$\n",
    "where $k$ is the rank, $N$ is the number of elements, and $s$ is the parameter that characterizes the distribution."
   ]
  },
  {
   "cell_type": "markdown",
   "metadata": {},
   "source": [
    "### Question 2\n",
    "Obviously, we're going to need a more rigorous way to find the distribution. First, find the maximum likelihood estimator for the parameter of the Zipf distribution. Zipf distribution only requires 1 parameter, *s*, the shape parameter."
   ]
  },
  {
   "cell_type": "markdown",
   "metadata": {},
   "source": [
    "### Answer 2"
   ]
  },
  {
   "cell_type": "markdown",
   "metadata": {},
   "source": [
    "The probability mass function using Zipf distribution (from equation 1) can be used to calculate the log-likelihood $L(s)$.\n",
    "\n",
    "$L(s) = Log(\\frac{1}{k^s * HarmonicNumber(N, s)})$ "
   ]
  },
  {
   "cell_type": "markdown",
   "metadata": {},
   "source": [
    "Because of the Harmonic Numbers, it will be extremely difficult to find an analytical solution for the estimator. Therefore, we use optimization methods to find an estimate."
   ]
  },
  {
   "cell_type": "code",
   "execution_count": 16,
   "metadata": {
    "ExecuteTime": {
     "end_time": "2021-05-28T20:39:07.678739Z",
     "start_time": "2021-05-28T20:39:07.675348Z"
    }
   },
   "outputs": [],
   "source": [
    "def neg_log_likelihood(s):\n",
    "    N = sum(frequency_values)\n",
    "    probs = np.log(frequency_values**(-1 * s) / np.sum(np.arange(1,  N+1)**(-1 * s)))\n",
    "    summed = sum(probs * frequency_values)\n",
    "    return -1 * summed"
   ]
  },
  {
   "cell_type": "code",
   "execution_count": 35,
   "metadata": {
    "ExecuteTime": {
     "end_time": "2021-05-28T20:43:41.717346Z",
     "start_time": "2021-05-28T20:43:41.308248Z"
    }
   },
   "outputs": [
    {
     "name": "stdout",
     "output_type": "stream",
     "text": [
      "1.0472055615708566\n"
     ]
    }
   ],
   "source": [
    "from scipy.optimize import minimize_scalar\n",
    "from scipy.stats import zipf\n",
    "frequency_values = np.array(frequency_values)\n",
    "s_best = minimize_scalar(neg_log_likelihood, [0, 6.0] )\n",
    "print(s_best.x)"
   ]
  },
  {
   "cell_type": "markdown",
   "metadata": {},
   "source": [
    "The best estimate for the $s$ parameter was 1.0472."
   ]
  },
  {
   "cell_type": "code",
   "execution_count": 45,
   "metadata": {
    "ExecuteTime": {
     "end_time": "2021-05-28T20:46:43.442862Z",
     "start_time": "2021-05-28T20:46:38.894330Z"
    }
   },
   "outputs": [
    {
     "data": {
      "image/png": "[encoded data removed]",
      "text/plain": [
       "<Figure size 400x250 with 1 Axes>"
      ]
     },
     "metadata": {},
     "output_type": "display_data"
    }
   ],
   "source": [
    "sns.set_style('white')\n",
    "fig, axes = plt.subplots(1, 1, figsize=(8, 5), dpi = 50)\n",
    "sns.set(font_scale = 2)\n",
    "plt.yscale('log')\n",
    "plt.xscale('log')\n",
    "sns.scatterplot(x = np.arange(1, len(word_frequency)+1), y =frequency_values, ax= axes, label = 'Twitter Data')\n",
    "plt.title('Log-Log Plot against MVUE')\n",
    "axes.set_xlabel('Most common word index')\n",
    "axes.set_ylabel('Word frequency')\n",
    "\n",
    "# here, we are fitting the estimate we found using Scipy's built-in zipf PMF function.\n",
    "fitted = np.array([zipf.pmf(n, s_best.x) for n in np.arange(1, len(frequency_values) + 1)]) * sum(frequency_values)\n",
    "\n",
    "p1 = sns.scatterplot(x = np.arange(1, len(word_frequency) + 1), y = fitted, ax = axes, label = 'Shape Estimator')\n",
    "p1.legend(frameon = True)\n",
    "plt.tight_layout()\n",
    "plt.show()"
   ]
  },
  {
   "cell_type": "markdown",
   "metadata": {},
   "source": [
    "The estimate we found is a pretty good estimate to the 400,000 tweet data."
   ]
  },
  {
   "cell_type": "markdown",
   "metadata": {},
   "source": [
    "### Question 3\n",
    "Using the MLE from question 2, bootstrap 10000 times and calculate this estimator 10000 times. What is the mean? the variance? Does this match with analytical solution?"
   ]
  },
  {
   "cell_type": "markdown",
   "metadata": {},
   "source": [
    "Python's Scikit-Learn has a great bootstrap API that we will use. "
   ]
  },
  {
   "cell_type": "code",
   "execution_count": 46,
   "metadata": {
    "ExecuteTime": {
     "end_time": "2021-05-28T20:53:28.950079Z",
     "start_time": "2021-05-28T20:53:28.947730Z"
    }
   },
   "outputs": [],
   "source": [
    "from sklearn.utils import resample"
   ]
  },
  {
   "cell_type": "code",
   "execution_count": null,
   "metadata": {},
   "outputs": [],
   "source": []
  },
  {
   "cell_type": "markdown",
   "metadata": {},
   "source": [
    "### Question 4\n",
    "Using our hypothesis testing knowledge from class, determine if Donald Trump's tweets follow the distribution with the shape estimator from the bootstrap in question 3. You will need to set up a null/alternative hypotheses and a log-likelihood ratio statistic. Plot the p-values and the test statistic from the 10000 bootstraps."
   ]
  },
  {
   "cell_type": "markdown",
   "metadata": {},
   "source": [
    "### Question 5 \n",
    "Now that we have a distribution that describes Donald Trump's \"speaking\" (writing) quality, **get the middle 30% of words in this distribution**. By doing so, we avoid very common words (called stop words) such as \"the\", \"for\", \"and\", but we also avoid words that are very rarely used and therefore do not represent the level of speaker well. Give us 10 words that fall in this section."
   ]
  },
  {
   "cell_type": "markdown",
   "metadata": {},
   "source": [
    "### Question 6\n",
    "In natural langauge processing, a method to test the reading level of a writing is called the **Flesch Kincaid Grade Level Test**. Let's apply this test to the middle 30% of words that we've identified. Give a histogram of the results."
   ]
  },
  {
   "cell_type": "markdown",
   "metadata": {},
   "source": [
    "### Question 7\n",
    "Calculate and present a 95% confidence interval of the grade results per tweet."
   ]
  },
  {
   "cell_type": "markdown",
   "metadata": {},
   "source": [
    "### Question 8\n",
    "From the probability mass distribution in Question 2, calculate random sequences of words (creating our own sentences from the bank of Donald Trump words) using a **Metropolis-Hastings** algorithm. You must recreate this from scratch (no importing custom functions!). "
   ]
  },
  {
   "cell_type": "code",
   "execution_count": null,
   "metadata": {},
   "outputs": [],
   "source": []
  }
 ],
 "metadata": {
  "kernelspec": {
   "display_name": "Python 3",
   "language": "python",
   "name": "python3"
  },
  "language_info": {
   "codemirror_mode": {
    "name": "ipython",
    "version": 3
   },
   "file_extension": ".py",
   "mimetype": "text/x-python",
   "name": "python",
   "nbconvert_exporter": "python",
   "pygments_lexer": "ipython3",
   "version": "3.8.5"
  },
  "latex_envs": {
   "LaTeX_envs_menu_present": true,
   "autoclose": false,
   "autocomplete": true,
   "bibliofile": "biblio.bib",
   "cite_by": "apalike",
   "current_citInitial": 1,
   "eqLabelWithNumbers": true,
   "eqNumInitial": 1,
   "hotkeys": {
    "equation": "Ctrl-E",
    "itemize": "Ctrl-I"
   },
   "labels_anchors": false,
   "latex_user_defs": false,
   "report_style_numbering": false,
   "user_envs_cfg": false
  },
  "toc": {
   "base_numbering": 1,
   "nav_menu": {},
   "number_sections": false,
   "sideBar": true,
   "skip_h1_title": true,
   "title_cell": "Table of Contents",
   "title_sidebar": "Contents",
   "toc_cell": false,
   "toc_position": {
    "height": "calc(100% - 180px)",
    "left": "10px",
    "top": "150px",
    "width": "241px"
   },
   "toc_section_display": true,
   "toc_window_display": true
  },
  "varInspector": {
   "cols": {
    "lenName": 16,
    "lenType": 16,
    "lenVar": 40
   },
   "kernels_config": {
    "python": {
     "delete_cmd_postfix": "",
     "delete_cmd_prefix": "del ",
     "library": "var_list.py",
     "varRefreshCmd": "print(var_dic_list())"
    },
    "r": {
     "delete_cmd_postfix": ") ",
     "delete_cmd_prefix": "rm(",
     "library": "var_list.r",
     "varRefreshCmd": "cat(var_dic_list()) "
    }
   },
   "types_to_exclude": [
    "module",
    "function",
    "builtin_function_or_method",
    "instance",
    "_Feature"
   ],
   "window_display": false
  }
 },
 "nbformat": 4,
 "nbformat_minor": 4
}
